{
 "cells": [
  {
   "cell_type": "markdown",
   "metadata": {},
   "source": [
    "# PYHTON HYPOTHESIS TESTING CASE STUDY"
   ]
  },
  {
   "cell_type": "markdown",
   "metadata": {},
   "source": [
    "### IMPORTING LIBRARIES"
   ]
  },
  {
   "cell_type": "code",
   "execution_count": 5,
   "metadata": {},
   "outputs": [],
   "source": [
    "import numpy as np\n",
    "import pandas as pd\n",
    "import scipy.stats as stats"
   ]
  },
  {
   "cell_type": "markdown",
   "metadata": {},
   "source": [
    "### IMPORTING DATASET"
   ]
  },
  {
   "cell_type": "code",
   "execution_count": 3,
   "metadata": {},
   "outputs": [
    {
     "data": {
      "text/html": [
       "<div>\n",
       "<style scoped>\n",
       "    .dataframe tbody tr th:only-of-type {\n",
       "        vertical-align: middle;\n",
       "    }\n",
       "\n",
       "    .dataframe tbody tr th {\n",
       "        vertical-align: top;\n",
       "    }\n",
       "\n",
       "    .dataframe thead th {\n",
       "        text-align: right;\n",
       "    }\n",
       "</style>\n",
       "<table border=\"1\" class=\"dataframe\">\n",
       "  <thead>\n",
       "    <tr style=\"text-align: right;\">\n",
       "      <th></th>\n",
       "      <th>Sr No</th>\n",
       "      <th>S_Cust_id</th>\n",
       "      <th>Samsung Score</th>\n",
       "      <th>Apple_Cust_id</th>\n",
       "      <th>Apple_Score</th>\n",
       "    </tr>\n",
       "  </thead>\n",
       "  <tbody>\n",
       "    <tr>\n",
       "      <th>0</th>\n",
       "      <td>1</td>\n",
       "      <td>S336499</td>\n",
       "      <td>94</td>\n",
       "      <td>A336525</td>\n",
       "      <td>82</td>\n",
       "    </tr>\n",
       "    <tr>\n",
       "      <th>1</th>\n",
       "      <td>2</td>\n",
       "      <td>S73004</td>\n",
       "      <td>99</td>\n",
       "      <td>A73011</td>\n",
       "      <td>83</td>\n",
       "    </tr>\n",
       "    <tr>\n",
       "      <th>2</th>\n",
       "      <td>3</td>\n",
       "      <td>S79537</td>\n",
       "      <td>74</td>\n",
       "      <td>A79538</td>\n",
       "      <td>88</td>\n",
       "    </tr>\n",
       "    <tr>\n",
       "      <th>3</th>\n",
       "      <td>4</td>\n",
       "      <td>S769168</td>\n",
       "      <td>74</td>\n",
       "      <td>A769222</td>\n",
       "      <td>80</td>\n",
       "    </tr>\n",
       "    <tr>\n",
       "      <th>4</th>\n",
       "      <td>5</td>\n",
       "      <td>S609791</td>\n",
       "      <td>83</td>\n",
       "      <td>A609801</td>\n",
       "      <td>74</td>\n",
       "    </tr>\n",
       "  </tbody>\n",
       "</table>\n",
       "</div>"
      ],
      "text/plain": [
       "   Sr No S_Cust_id  Samsung Score Apple_Cust_id  Apple_Score\n",
       "0      1   S336499             94       A336525           82\n",
       "1      2    S73004             99        A73011           83\n",
       "2      3    S79537             74        A79538           88\n",
       "3      4   S769168             74       A769222           80\n",
       "4      5   S609791             83       A609801           74"
      ]
     },
     "execution_count": 3,
     "metadata": {},
     "output_type": "execute_result"
    }
   ],
   "source": [
    "cust_satisfaction = pd.read_csv('C:/Users/shubh/Desktop/ALABS PYTHON CASE STUDIES/FOUNDATION/8. Basic Stats - Case Study-2/8. Basic Stats - Case Study-2/Testing_Of_Hypothesis.csv')\n",
    "cust_satisfaction.head()"
   ]
  },
  {
   "cell_type": "markdown",
   "metadata": {},
   "source": [
    "## Q1.\n",
    "The Samsung Average customer satisfaction score is\n",
    "minimum 75%."
   ]
  },
  {
   "cell_type": "code",
   "execution_count": 4,
   "metadata": {},
   "outputs": [
    {
     "name": "stdout",
     "output_type": "stream",
     "text": [
      "Mean Satisfaction Score for Samsung is : 84.9\n"
     ]
    }
   ],
   "source": [
    "print('Mean Satisfaction Score for Samsung is :', cust_satisfaction['Samsung Score'].mean())"
   ]
  },
  {
   "cell_type": "markdown",
   "metadata": {},
   "source": [
    "### Ho : Mean Satisfaction Score for Samsung is atleast 75\n",
    "### Ha : Mean Satisfaction Score for Samsung is more than 75\n",
    "### CI : 95%, p-value : 0.05\n",
    "### One Sample t-test"
   ]
  },
  {
   "cell_type": "code",
   "execution_count": 9,
   "metadata": {},
   "outputs": [
    {
     "data": {
      "text/plain": [
       "Ttest_1sampResult(statistic=8.358287450922418, pvalue=4.0739777034636007e-13)"
      ]
     },
     "execution_count": 9,
     "metadata": {},
     "output_type": "execute_result"
    }
   ],
   "source": [
    "stats.ttest_1samp(cust_satisfaction['Samsung Score'], 75)"
   ]
  },
  {
   "cell_type": "markdown",
   "metadata": {},
   "source": [
    "### Conclusion :\n",
    "Since the p-value is coming out to be very low (<0.05), we can reject the null hypothesis.\n",
    "\n",
    "In other words, we can say that the minimum customer satisfaction score for samsung is greater than 75%."
   ]
  },
  {
   "cell_type": "markdown",
   "metadata": {},
   "source": [
    "## Q2.\n",
    "The overall average satisfaction score of Samsung is same\n",
    "as Apple. There is no significant difference in the satisfaction\n",
    "scores"
   ]
  },
  {
   "cell_type": "code",
   "execution_count": 11,
   "metadata": {},
   "outputs": [
    {
     "name": "stdout",
     "output_type": "stream",
     "text": [
      "Mean Satisfaction Score for Samsung is : 84.9 | Mean Satisfaction Score for Apple is : 87.81\n"
     ]
    }
   ],
   "source": [
    "print('Mean Satisfaction Score for Samsung is :', cust_satisfaction['Samsung Score'].mean(), \n",
    "      '| Mean Satisfaction Score for Apple is :', cust_satisfaction['Apple_Score'].mean())"
   ]
  },
  {
   "cell_type": "markdown",
   "metadata": {},
   "source": [
    "### Ho : Mean Satisfaction score Samsung = Mean Satisfaction score Apple\n",
    "### Ha : Mean Satisfaction score Samsung != Mean Satisfaction score Apple\n",
    "### CI : 95%, p-value : 0.05\n",
    "### Independent Sample t-test"
   ]
  },
  {
   "cell_type": "code",
   "execution_count": 12,
   "metadata": {},
   "outputs": [
    {
     "data": {
      "text/plain": [
       "Ttest_indResult(statistic=-1.9064295935043472, pvalue=0.058042614444118075)"
      ]
     },
     "execution_count": 12,
     "metadata": {},
     "output_type": "execute_result"
    }
   ],
   "source": [
    "stats.ttest_ind(cust_satisfaction['Samsung Score'], cust_satisfaction['Apple_Score'])"
   ]
  },
  {
   "cell_type": "markdown",
   "metadata": {},
   "source": [
    "### Conclusion :\n",
    "Since p-value is coming out to be more than 0.05, we fail to reject the null hypothesis.\n",
    "\n",
    "In other words we can say that there is no significant difference between Apple's and Samsung's average customer satisfaction score.\n"
   ]
  },
  {
   "cell_type": "code",
   "execution_count": null,
   "metadata": {},
   "outputs": [],
   "source": []
  }
 ],
 "metadata": {
  "kernelspec": {
   "display_name": "Python 3",
   "language": "python",
   "name": "python3"
  },
  "language_info": {
   "codemirror_mode": {
    "name": "ipython",
    "version": 3
   },
   "file_extension": ".py",
   "mimetype": "text/x-python",
   "name": "python",
   "nbconvert_exporter": "python",
   "pygments_lexer": "ipython3",
   "version": "3.8.5"
  }
 },
 "nbformat": 4,
 "nbformat_minor": 4
}
