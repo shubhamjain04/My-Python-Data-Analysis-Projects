{
 "cells": [
  {
   "cell_type": "markdown",
   "metadata": {},
   "source": [
    "# PANDAS CREDIT CARD CASE STUDY"
   ]
  },
  {
   "cell_type": "markdown",
   "metadata": {},
   "source": [
    "## IMPORTING LIBRARIES"
   ]
  },
  {
   "cell_type": "code",
   "execution_count": 101,
   "metadata": {},
   "outputs": [],
   "source": [
    "import numpy as np\n",
    "import pandas as pd\n",
    "import matplotlib.pyplot as plt\n",
    "import datetime as dt\n",
    "import plotly"
   ]
  },
  {
   "cell_type": "markdown",
   "metadata": {},
   "source": [
    "## IMPORTING DATASETS"
   ]
  },
  {
   "cell_type": "code",
   "execution_count": 2,
   "metadata": {},
   "outputs": [],
   "source": [
    "customer_acquisition = pd.read_csv('C:/Users/shubh/Desktop/ALABS PYTHON CASE STUDIES/FOUNDATION/4. Pandas Case Study 2 - Credit Card Case Study/4. Pandas Case Study 2 - Credit Card Case Study/Customer Acqusition.csv')\n",
    "repayment = pd.read_csv('C:/Users/shubh/Desktop/ALABS PYTHON CASE STUDIES/FOUNDATION/4. Pandas Case Study 2 - Credit Card Case Study/4. Pandas Case Study 2 - Credit Card Case Study/Repayment.csv')\n",
    "spend = pd.read_csv('C:/Users/shubh/Desktop/ALABS PYTHON CASE STUDIES/FOUNDATION/4. Pandas Case Study 2 - Credit Card Case Study/4. Pandas Case Study 2 - Credit Card Case Study/spend.csv')\n"
   ]
  },
  {
   "cell_type": "code",
   "execution_count": 3,
   "metadata": {},
   "outputs": [
    {
     "data": {
      "text/plain": [
       "(100, 8)"
      ]
     },
     "execution_count": 3,
     "metadata": {},
     "output_type": "execute_result"
    }
   ],
   "source": [
    "customer_acquisition.shape"
   ]
  },
  {
   "cell_type": "code",
   "execution_count": 4,
   "metadata": {},
   "outputs": [
    {
     "data": {
      "text/plain": [
       "(1523, 5)"
      ]
     },
     "execution_count": 4,
     "metadata": {},
     "output_type": "execute_result"
    }
   ],
   "source": [
    "repayment.shape"
   ]
  },
  {
   "cell_type": "code",
   "execution_count": 5,
   "metadata": {},
   "outputs": [
    {
     "data": {
      "text/plain": [
       "(1500, 5)"
      ]
     },
     "execution_count": 5,
     "metadata": {},
     "output_type": "execute_result"
    }
   ],
   "source": [
    "spend.shape"
   ]
  },
  {
   "cell_type": "markdown",
   "metadata": {},
   "source": [
    "## JOINING THE DATASETS"
   ]
  },
  {
   "cell_type": "code",
   "execution_count": 6,
   "metadata": {},
   "outputs": [],
   "source": [
    "spend_data = pd.merge(left = customer_acquisition, right = spend, on = 'Customer', how = 'left')"
   ]
  },
  {
   "cell_type": "code",
   "execution_count": 7,
   "metadata": {},
   "outputs": [],
   "source": [
    "repay_data = pd.merge(left = customer_acquisition, right = repayment, on = 'Customer', how = 'left')"
   ]
  },
  {
   "cell_type": "code",
   "execution_count": 8,
   "metadata": {},
   "outputs": [
    {
     "data": {
      "text/html": [
       "<div>\n",
       "<style scoped>\n",
       "    .dataframe tbody tr th:only-of-type {\n",
       "        vertical-align: middle;\n",
       "    }\n",
       "\n",
       "    .dataframe tbody tr th {\n",
       "        vertical-align: top;\n",
       "    }\n",
       "\n",
       "    .dataframe thead th {\n",
       "        text-align: right;\n",
       "    }\n",
       "</style>\n",
       "<table border=\"1\" class=\"dataframe\">\n",
       "  <thead>\n",
       "    <tr style=\"text-align: right;\">\n",
       "      <th></th>\n",
       "      <th>No</th>\n",
       "      <th>Customer</th>\n",
       "      <th>Age</th>\n",
       "      <th>City</th>\n",
       "      <th>Product</th>\n",
       "      <th>Limit</th>\n",
       "      <th>Company</th>\n",
       "      <th>Segment</th>\n",
       "      <th>Sl No:</th>\n",
       "      <th>Month</th>\n",
       "      <th>Type</th>\n",
       "      <th>Amount</th>\n",
       "    </tr>\n",
       "  </thead>\n",
       "  <tbody>\n",
       "    <tr>\n",
       "      <th>0</th>\n",
       "      <td>1</td>\n",
       "      <td>A1</td>\n",
       "      <td>76</td>\n",
       "      <td>BANGALORE</td>\n",
       "      <td>Gold</td>\n",
       "      <td>500000.0</td>\n",
       "      <td>C1</td>\n",
       "      <td>Self Employed</td>\n",
       "      <td>1</td>\n",
       "      <td>12-Jan-04</td>\n",
       "      <td>JEWELLERY</td>\n",
       "      <td>485470.80</td>\n",
       "    </tr>\n",
       "    <tr>\n",
       "      <th>1</th>\n",
       "      <td>1</td>\n",
       "      <td>A1</td>\n",
       "      <td>76</td>\n",
       "      <td>BANGALORE</td>\n",
       "      <td>Gold</td>\n",
       "      <td>500000.0</td>\n",
       "      <td>C1</td>\n",
       "      <td>Self Employed</td>\n",
       "      <td>2</td>\n",
       "      <td>3-Jan-04</td>\n",
       "      <td>PETRO</td>\n",
       "      <td>410556.13</td>\n",
       "    </tr>\n",
       "  </tbody>\n",
       "</table>\n",
       "</div>"
      ],
      "text/plain": [
       "   No Customer  Age       City Product     Limit Company        Segment  \\\n",
       "0   1       A1   76  BANGALORE    Gold  500000.0      C1  Self Employed   \n",
       "1   1       A1   76  BANGALORE    Gold  500000.0      C1  Self Employed   \n",
       "\n",
       "   Sl No:      Month       Type     Amount  \n",
       "0       1  12-Jan-04  JEWELLERY  485470.80  \n",
       "1       2   3-Jan-04      PETRO  410556.13  "
      ]
     },
     "execution_count": 8,
     "metadata": {},
     "output_type": "execute_result"
    }
   ],
   "source": [
    "spend_data.head(2)"
   ]
  },
  {
   "cell_type": "code",
   "execution_count": 9,
   "metadata": {},
   "outputs": [
    {
     "data": {
      "text/html": [
       "<div>\n",
       "<style scoped>\n",
       "    .dataframe tbody tr th:only-of-type {\n",
       "        vertical-align: middle;\n",
       "    }\n",
       "\n",
       "    .dataframe tbody tr th {\n",
       "        vertical-align: top;\n",
       "    }\n",
       "\n",
       "    .dataframe thead th {\n",
       "        text-align: right;\n",
       "    }\n",
       "</style>\n",
       "<table border=\"1\" class=\"dataframe\">\n",
       "  <thead>\n",
       "    <tr style=\"text-align: right;\">\n",
       "      <th></th>\n",
       "      <th>No</th>\n",
       "      <th>Customer</th>\n",
       "      <th>Age</th>\n",
       "      <th>City</th>\n",
       "      <th>Product</th>\n",
       "      <th>Limit</th>\n",
       "      <th>Company</th>\n",
       "      <th>Segment</th>\n",
       "      <th>SL No:</th>\n",
       "      <th>Month</th>\n",
       "      <th>Amount</th>\n",
       "      <th>Unnamed: 4</th>\n",
       "    </tr>\n",
       "  </thead>\n",
       "  <tbody>\n",
       "    <tr>\n",
       "      <th>0</th>\n",
       "      <td>1</td>\n",
       "      <td>A1</td>\n",
       "      <td>76</td>\n",
       "      <td>BANGALORE</td>\n",
       "      <td>Gold</td>\n",
       "      <td>500000.0</td>\n",
       "      <td>C1</td>\n",
       "      <td>Self Employed</td>\n",
       "      <td>NaN</td>\n",
       "      <td>12-Jan-04</td>\n",
       "      <td>495414.75</td>\n",
       "      <td>NaN</td>\n",
       "    </tr>\n",
       "    <tr>\n",
       "      <th>1</th>\n",
       "      <td>1</td>\n",
       "      <td>A1</td>\n",
       "      <td>76</td>\n",
       "      <td>BANGALORE</td>\n",
       "      <td>Gold</td>\n",
       "      <td>500000.0</td>\n",
       "      <td>C1</td>\n",
       "      <td>Self Employed</td>\n",
       "      <td>2.0</td>\n",
       "      <td>3-Jan-04</td>\n",
       "      <td>245899.02</td>\n",
       "      <td>NaN</td>\n",
       "    </tr>\n",
       "  </tbody>\n",
       "</table>\n",
       "</div>"
      ],
      "text/plain": [
       "   No Customer  Age       City Product     Limit Company        Segment  \\\n",
       "0   1       A1   76  BANGALORE    Gold  500000.0      C1  Self Employed   \n",
       "1   1       A1   76  BANGALORE    Gold  500000.0      C1  Self Employed   \n",
       "\n",
       "   SL No:      Month     Amount  Unnamed: 4  \n",
       "0     NaN  12-Jan-04  495414.75         NaN  \n",
       "1     2.0   3-Jan-04  245899.02         NaN  "
      ]
     },
     "execution_count": 9,
     "metadata": {},
     "output_type": "execute_result"
    }
   ],
   "source": [
    "repay_data.head(2)"
   ]
  },
  {
   "cell_type": "markdown",
   "metadata": {},
   "source": [
    "#### REMOVING UNNECESSARY COLUMNS"
   ]
  },
  {
   "cell_type": "code",
   "execution_count": 10,
   "metadata": {},
   "outputs": [],
   "source": [
    "spend_data.drop(columns = ['No', 'Sl No:'], inplace = True)"
   ]
  },
  {
   "cell_type": "code",
   "execution_count": 11,
   "metadata": {},
   "outputs": [],
   "source": [
    "repay_data.drop(columns = ['No', 'SL No:', 'Unnamed: 4'], inplace = True)"
   ]
  },
  {
   "cell_type": "code",
   "execution_count": 12,
   "metadata": {},
   "outputs": [
    {
     "data": {
      "text/plain": [
       "Index(['Customer', 'Age', 'City', 'Product', 'Limit', 'Company', 'Segment',\n",
       "       'Month', 'Type', 'Amount'],\n",
       "      dtype='object')"
      ]
     },
     "execution_count": 12,
     "metadata": {},
     "output_type": "execute_result"
    }
   ],
   "source": [
    "spend_data.columns"
   ]
  },
  {
   "cell_type": "code",
   "execution_count": 13,
   "metadata": {},
   "outputs": [
    {
     "data": {
      "text/plain": [
       "Index(['Customer', 'Age', 'City', 'Product', 'Limit', 'Company', 'Segment',\n",
       "       'Month', 'Amount'],\n",
       "      dtype='object')"
      ]
     },
     "execution_count": 13,
     "metadata": {},
     "output_type": "execute_result"
    }
   ],
   "source": [
    "repay_data.columns"
   ]
  },
  {
   "cell_type": "code",
   "execution_count": 14,
   "metadata": {},
   "outputs": [],
   "source": [
    "# RENAMING COLUMNS FOR BETTER UNDERSTANDING\n",
    "spend_data.rename(columns = {'Month' : 'spend_date', 'Amount' : 'amt_spend'}, inplace = True) \n",
    "repay_data.rename(columns = {'Month' : 'repay_date', 'Amount' : 'amt_repay'}, inplace = True)"
   ]
  },
  {
   "cell_type": "code",
   "execution_count": 15,
   "metadata": {},
   "outputs": [
    {
     "data": {
      "text/html": [
       "<div>\n",
       "<style scoped>\n",
       "    .dataframe tbody tr th:only-of-type {\n",
       "        vertical-align: middle;\n",
       "    }\n",
       "\n",
       "    .dataframe tbody tr th {\n",
       "        vertical-align: top;\n",
       "    }\n",
       "\n",
       "    .dataframe thead th {\n",
       "        text-align: right;\n",
       "    }\n",
       "</style>\n",
       "<table border=\"1\" class=\"dataframe\">\n",
       "  <thead>\n",
       "    <tr style=\"text-align: right;\">\n",
       "      <th></th>\n",
       "      <th>Customer</th>\n",
       "      <th>Age</th>\n",
       "      <th>City</th>\n",
       "      <th>Product</th>\n",
       "      <th>Limit</th>\n",
       "      <th>Company</th>\n",
       "      <th>Segment</th>\n",
       "      <th>spend_date</th>\n",
       "      <th>Type</th>\n",
       "      <th>amt_spend</th>\n",
       "    </tr>\n",
       "  </thead>\n",
       "  <tbody>\n",
       "    <tr>\n",
       "      <th>0</th>\n",
       "      <td>A1</td>\n",
       "      <td>76</td>\n",
       "      <td>BANGALORE</td>\n",
       "      <td>Gold</td>\n",
       "      <td>500000.0</td>\n",
       "      <td>C1</td>\n",
       "      <td>Self Employed</td>\n",
       "      <td>12-Jan-04</td>\n",
       "      <td>JEWELLERY</td>\n",
       "      <td>485470.80</td>\n",
       "    </tr>\n",
       "    <tr>\n",
       "      <th>1</th>\n",
       "      <td>A1</td>\n",
       "      <td>76</td>\n",
       "      <td>BANGALORE</td>\n",
       "      <td>Gold</td>\n",
       "      <td>500000.0</td>\n",
       "      <td>C1</td>\n",
       "      <td>Self Employed</td>\n",
       "      <td>3-Jan-04</td>\n",
       "      <td>PETRO</td>\n",
       "      <td>410556.13</td>\n",
       "    </tr>\n",
       "  </tbody>\n",
       "</table>\n",
       "</div>"
      ],
      "text/plain": [
       "  Customer  Age       City Product     Limit Company        Segment  \\\n",
       "0       A1   76  BANGALORE    Gold  500000.0      C1  Self Employed   \n",
       "1       A1   76  BANGALORE    Gold  500000.0      C1  Self Employed   \n",
       "\n",
       "  spend_date       Type  amt_spend  \n",
       "0  12-Jan-04  JEWELLERY  485470.80  \n",
       "1   3-Jan-04      PETRO  410556.13  "
      ]
     },
     "execution_count": 15,
     "metadata": {},
     "output_type": "execute_result"
    }
   ],
   "source": [
    "spend_data.head(2)"
   ]
  },
  {
   "cell_type": "code",
   "execution_count": 16,
   "metadata": {},
   "outputs": [
    {
     "data": {
      "text/html": [
       "<div>\n",
       "<style scoped>\n",
       "    .dataframe tbody tr th:only-of-type {\n",
       "        vertical-align: middle;\n",
       "    }\n",
       "\n",
       "    .dataframe tbody tr th {\n",
       "        vertical-align: top;\n",
       "    }\n",
       "\n",
       "    .dataframe thead th {\n",
       "        text-align: right;\n",
       "    }\n",
       "</style>\n",
       "<table border=\"1\" class=\"dataframe\">\n",
       "  <thead>\n",
       "    <tr style=\"text-align: right;\">\n",
       "      <th></th>\n",
       "      <th>Customer</th>\n",
       "      <th>Age</th>\n",
       "      <th>City</th>\n",
       "      <th>Product</th>\n",
       "      <th>Limit</th>\n",
       "      <th>Company</th>\n",
       "      <th>Segment</th>\n",
       "      <th>repay_date</th>\n",
       "      <th>amt_repay</th>\n",
       "    </tr>\n",
       "  </thead>\n",
       "  <tbody>\n",
       "    <tr>\n",
       "      <th>0</th>\n",
       "      <td>A1</td>\n",
       "      <td>76</td>\n",
       "      <td>BANGALORE</td>\n",
       "      <td>Gold</td>\n",
       "      <td>500000.0</td>\n",
       "      <td>C1</td>\n",
       "      <td>Self Employed</td>\n",
       "      <td>12-Jan-04</td>\n",
       "      <td>495414.75</td>\n",
       "    </tr>\n",
       "    <tr>\n",
       "      <th>1</th>\n",
       "      <td>A1</td>\n",
       "      <td>76</td>\n",
       "      <td>BANGALORE</td>\n",
       "      <td>Gold</td>\n",
       "      <td>500000.0</td>\n",
       "      <td>C1</td>\n",
       "      <td>Self Employed</td>\n",
       "      <td>3-Jan-04</td>\n",
       "      <td>245899.02</td>\n",
       "    </tr>\n",
       "  </tbody>\n",
       "</table>\n",
       "</div>"
      ],
      "text/plain": [
       "  Customer  Age       City Product     Limit Company        Segment  \\\n",
       "0       A1   76  BANGALORE    Gold  500000.0      C1  Self Employed   \n",
       "1       A1   76  BANGALORE    Gold  500000.0      C1  Self Employed   \n",
       "\n",
       "  repay_date  amt_repay  \n",
       "0  12-Jan-04  495414.75  \n",
       "1   3-Jan-04  245899.02  "
      ]
     },
     "execution_count": 16,
     "metadata": {},
     "output_type": "execute_result"
    }
   ],
   "source": [
    "repay_data.head(2)"
   ]
  },
  {
   "cell_type": "code",
   "execution_count": 17,
   "metadata": {},
   "outputs": [
    {
     "data": {
      "text/plain": [
       "(Customer       object\n",
       " Age             int64\n",
       " City           object\n",
       " Product        object\n",
       " Limit         float64\n",
       " Company        object\n",
       " Segment        object\n",
       " spend_date     object\n",
       " Type           object\n",
       " amt_spend     float64\n",
       " dtype: object,\n",
       " Customer       object\n",
       " Age             int64\n",
       " City           object\n",
       " Product        object\n",
       " Limit         float64\n",
       " Company        object\n",
       " Segment        object\n",
       " repay_date     object\n",
       " amt_repay     float64\n",
       " dtype: object)"
      ]
     },
     "execution_count": 17,
     "metadata": {},
     "output_type": "execute_result"
    }
   ],
   "source": [
    "spend_data.dtypes, repay_data.dtypes"
   ]
  },
  {
   "cell_type": "markdown",
   "metadata": {},
   "source": [
    "### CORRECTING DATATYPES"
   ]
  },
  {
   "cell_type": "code",
   "execution_count": 18,
   "metadata": {},
   "outputs": [],
   "source": [
    "spend_data['spend_date'] = pd.to_datetime(spend_data['spend_date'], format = '%d-%b-%y')\n",
    "repay_data['repay_date'] = pd.to_datetime(repay_data['repay_date'], format = '%d-%b-%y')"
   ]
  },
  {
   "cell_type": "code",
   "execution_count": 19,
   "metadata": {},
   "outputs": [
    {
     "data": {
      "text/plain": [
       "(Customer              object\n",
       " Age                    int64\n",
       " City                  object\n",
       " Product               object\n",
       " Limit                float64\n",
       " Company               object\n",
       " Segment               object\n",
       " spend_date    datetime64[ns]\n",
       " Type                  object\n",
       " amt_spend            float64\n",
       " dtype: object,\n",
       " Customer              object\n",
       " Age                    int64\n",
       " City                  object\n",
       " Product               object\n",
       " Limit                float64\n",
       " Company               object\n",
       " Segment               object\n",
       " repay_date    datetime64[ns]\n",
       " amt_repay            float64\n",
       " dtype: object)"
      ]
     },
     "execution_count": 19,
     "metadata": {},
     "output_type": "execute_result"
    }
   ],
   "source": [
    "spend_data.dtypes, repay_data.dtypes"
   ]
  },
  {
   "cell_type": "markdown",
   "metadata": {},
   "source": [
    "## Q1. In the above dataset,\n",
    "\n",
    "### (a). In case age is less than 18, replace it with mean of age values."
   ]
  },
  {
   "cell_type": "code",
   "execution_count": 20,
   "metadata": {},
   "outputs": [
    {
     "data": {
      "text/plain": [
       "236    16\n",
       "237    16\n",
       "Name: Age, dtype: int64"
      ]
     },
     "execution_count": 20,
     "metadata": {},
     "output_type": "execute_result"
    }
   ],
   "source": [
    "spend_data.loc[spend_data['Age'] < 18, 'Age'].head(2)"
   ]
  },
  {
   "cell_type": "code",
   "execution_count": 21,
   "metadata": {},
   "outputs": [
    {
     "data": {
      "text/plain": [
       "236    16\n",
       "237    16\n",
       "Name: Age, dtype: int64"
      ]
     },
     "execution_count": 21,
     "metadata": {},
     "output_type": "execute_result"
    }
   ],
   "source": [
    "repay_data.loc[repay_data['Age'] < 18, 'Age'].head(2)"
   ]
  },
  {
   "cell_type": "code",
   "execution_count": 22,
   "metadata": {},
   "outputs": [],
   "source": [
    "spend_data.loc[spend_data['Age'] < 18, 'Age'] = int(np.mean(spend_data['Age']))\n",
    "repay_data.loc[repay_data['Age'] < 18, 'Age'] = int(np.mean(repay_data['Age']))"
   ]
  },
  {
   "cell_type": "code",
   "execution_count": 23,
   "metadata": {},
   "outputs": [
    {
     "data": {
      "text/plain": [
       "Series([], Name: Age, dtype: int64)"
      ]
     },
     "execution_count": 23,
     "metadata": {},
     "output_type": "execute_result"
    }
   ],
   "source": [
    "spend_data.loc[spend_data['Age'] < 18, 'Age'].head(2)"
   ]
  },
  {
   "cell_type": "code",
   "execution_count": 24,
   "metadata": {},
   "outputs": [
    {
     "data": {
      "text/plain": [
       "Series([], Name: Age, dtype: int64)"
      ]
     },
     "execution_count": 24,
     "metadata": {},
     "output_type": "execute_result"
    }
   ],
   "source": [
    "repay_data.loc[repay_data['Age'] < 18, 'Age'].head(2)"
   ]
  },
  {
   "cell_type": "markdown",
   "metadata": {},
   "source": [
    "### (b). In case spend amount is more than the limit, replace it with 50% of that customer’s limit. (customer’s limit provided in acquisition table is the per transaction limit on his card)"
   ]
  },
  {
   "cell_type": "code",
   "execution_count": 25,
   "metadata": {},
   "outputs": [
    {
     "data": {
      "text/html": [
       "<div>\n",
       "<style scoped>\n",
       "    .dataframe tbody tr th:only-of-type {\n",
       "        vertical-align: middle;\n",
       "    }\n",
       "\n",
       "    .dataframe tbody tr th {\n",
       "        vertical-align: top;\n",
       "    }\n",
       "\n",
       "    .dataframe thead th {\n",
       "        text-align: right;\n",
       "    }\n",
       "</style>\n",
       "<table border=\"1\" class=\"dataframe\">\n",
       "  <thead>\n",
       "    <tr style=\"text-align: right;\">\n",
       "      <th></th>\n",
       "      <th>Customer</th>\n",
       "      <th>Age</th>\n",
       "      <th>City</th>\n",
       "      <th>Product</th>\n",
       "      <th>Limit</th>\n",
       "      <th>Company</th>\n",
       "      <th>Segment</th>\n",
       "      <th>spend_date</th>\n",
       "      <th>Type</th>\n",
       "      <th>amt_spend</th>\n",
       "    </tr>\n",
       "  </thead>\n",
       "  <tbody>\n",
       "    <tr>\n",
       "      <th>18</th>\n",
       "      <td>A2</td>\n",
       "      <td>71</td>\n",
       "      <td>CALCUTTA</td>\n",
       "      <td>Silver</td>\n",
       "      <td>100000.0</td>\n",
       "      <td>C2</td>\n",
       "      <td>Salaried_MNC</td>\n",
       "      <td>2004-01-03</td>\n",
       "      <td>RENTAL</td>\n",
       "      <td>199554.72</td>\n",
       "    </tr>\n",
       "    <tr>\n",
       "      <th>19</th>\n",
       "      <td>A2</td>\n",
       "      <td>71</td>\n",
       "      <td>CALCUTTA</td>\n",
       "      <td>Silver</td>\n",
       "      <td>100000.0</td>\n",
       "      <td>C2</td>\n",
       "      <td>Salaried_MNC</td>\n",
       "      <td>2005-02-28</td>\n",
       "      <td>TRAIN TICKET</td>\n",
       "      <td>376887.49</td>\n",
       "    </tr>\n",
       "  </tbody>\n",
       "</table>\n",
       "</div>"
      ],
      "text/plain": [
       "   Customer  Age      City Product     Limit Company       Segment spend_date  \\\n",
       "18       A2   71  CALCUTTA  Silver  100000.0      C2  Salaried_MNC 2004-01-03   \n",
       "19       A2   71  CALCUTTA  Silver  100000.0      C2  Salaried_MNC 2005-02-28   \n",
       "\n",
       "            Type  amt_spend  \n",
       "18        RENTAL  199554.72  \n",
       "19  TRAIN TICKET  376887.49  "
      ]
     },
     "execution_count": 25,
     "metadata": {},
     "output_type": "execute_result"
    }
   ],
   "source": [
    "spend_data.loc[spend_data['amt_spend'] > spend_data['Limit']].head(2)"
   ]
  },
  {
   "cell_type": "code",
   "execution_count": 26,
   "metadata": {},
   "outputs": [],
   "source": [
    "spend_data.loc[spend_data['amt_spend'] > spend_data['Limit'], 'amt_spend'] = 0.5*spend_data['Limit']"
   ]
  },
  {
   "cell_type": "code",
   "execution_count": 27,
   "metadata": {},
   "outputs": [
    {
     "data": {
      "text/html": [
       "<div>\n",
       "<style scoped>\n",
       "    .dataframe tbody tr th:only-of-type {\n",
       "        vertical-align: middle;\n",
       "    }\n",
       "\n",
       "    .dataframe tbody tr th {\n",
       "        vertical-align: top;\n",
       "    }\n",
       "\n",
       "    .dataframe thead th {\n",
       "        text-align: right;\n",
       "    }\n",
       "</style>\n",
       "<table border=\"1\" class=\"dataframe\">\n",
       "  <thead>\n",
       "    <tr style=\"text-align: right;\">\n",
       "      <th></th>\n",
       "      <th>Customer</th>\n",
       "      <th>Age</th>\n",
       "      <th>City</th>\n",
       "      <th>Product</th>\n",
       "      <th>Limit</th>\n",
       "      <th>Company</th>\n",
       "      <th>Segment</th>\n",
       "      <th>spend_date</th>\n",
       "      <th>Type</th>\n",
       "      <th>amt_spend</th>\n",
       "    </tr>\n",
       "  </thead>\n",
       "  <tbody>\n",
       "  </tbody>\n",
       "</table>\n",
       "</div>"
      ],
      "text/plain": [
       "Empty DataFrame\n",
       "Columns: [Customer, Age, City, Product, Limit, Company, Segment, spend_date, Type, amt_spend]\n",
       "Index: []"
      ]
     },
     "execution_count": 27,
     "metadata": {},
     "output_type": "execute_result"
    }
   ],
   "source": [
    "spend_data.loc[spend_data['amt_spend'] > spend_data['Limit']]"
   ]
  },
  {
   "cell_type": "markdown",
   "metadata": {},
   "source": [
    "### (c). Incase the repayment amount is more than the limit, replace the repayment with the limit."
   ]
  },
  {
   "cell_type": "code",
   "execution_count": 28,
   "metadata": {},
   "outputs": [
    {
     "data": {
      "text/html": [
       "<div>\n",
       "<style scoped>\n",
       "    .dataframe tbody tr th:only-of-type {\n",
       "        vertical-align: middle;\n",
       "    }\n",
       "\n",
       "    .dataframe tbody tr th {\n",
       "        vertical-align: top;\n",
       "    }\n",
       "\n",
       "    .dataframe thead th {\n",
       "        text-align: right;\n",
       "    }\n",
       "</style>\n",
       "<table border=\"1\" class=\"dataframe\">\n",
       "  <thead>\n",
       "    <tr style=\"text-align: right;\">\n",
       "      <th></th>\n",
       "      <th>Customer</th>\n",
       "      <th>Age</th>\n",
       "      <th>City</th>\n",
       "      <th>Product</th>\n",
       "      <th>Limit</th>\n",
       "      <th>Company</th>\n",
       "      <th>Segment</th>\n",
       "      <th>repay_date</th>\n",
       "      <th>amt_repay</th>\n",
       "    </tr>\n",
       "  </thead>\n",
       "  <tbody>\n",
       "    <tr>\n",
       "      <th>18</th>\n",
       "      <td>A2</td>\n",
       "      <td>71</td>\n",
       "      <td>CALCUTTA</td>\n",
       "      <td>Silver</td>\n",
       "      <td>100000.0</td>\n",
       "      <td>C2</td>\n",
       "      <td>Salaried_MNC</td>\n",
       "      <td>2004-01-03</td>\n",
       "      <td>185955.07</td>\n",
       "    </tr>\n",
       "    <tr>\n",
       "      <th>19</th>\n",
       "      <td>A2</td>\n",
       "      <td>71</td>\n",
       "      <td>CALCUTTA</td>\n",
       "      <td>Silver</td>\n",
       "      <td>100000.0</td>\n",
       "      <td>C2</td>\n",
       "      <td>Salaried_MNC</td>\n",
       "      <td>2005-02-28</td>\n",
       "      <td>412783.34</td>\n",
       "    </tr>\n",
       "  </tbody>\n",
       "</table>\n",
       "</div>"
      ],
      "text/plain": [
       "   Customer  Age      City Product     Limit Company       Segment repay_date  \\\n",
       "18       A2   71  CALCUTTA  Silver  100000.0      C2  Salaried_MNC 2004-01-03   \n",
       "19       A2   71  CALCUTTA  Silver  100000.0      C2  Salaried_MNC 2005-02-28   \n",
       "\n",
       "    amt_repay  \n",
       "18  185955.07  \n",
       "19  412783.34  "
      ]
     },
     "execution_count": 28,
     "metadata": {},
     "output_type": "execute_result"
    }
   ],
   "source": [
    "repay_data.loc[repay_data['amt_repay'] > repay_data['Limit']].head(2)"
   ]
  },
  {
   "cell_type": "code",
   "execution_count": 29,
   "metadata": {},
   "outputs": [],
   "source": [
    "repay_data.loc[repay_data['amt_repay'] > repay_data['Limit'], 'amt_repay'] = repay_data['Limit']"
   ]
  },
  {
   "cell_type": "code",
   "execution_count": 30,
   "metadata": {},
   "outputs": [
    {
     "data": {
      "text/html": [
       "<div>\n",
       "<style scoped>\n",
       "    .dataframe tbody tr th:only-of-type {\n",
       "        vertical-align: middle;\n",
       "    }\n",
       "\n",
       "    .dataframe tbody tr th {\n",
       "        vertical-align: top;\n",
       "    }\n",
       "\n",
       "    .dataframe thead th {\n",
       "        text-align: right;\n",
       "    }\n",
       "</style>\n",
       "<table border=\"1\" class=\"dataframe\">\n",
       "  <thead>\n",
       "    <tr style=\"text-align: right;\">\n",
       "      <th></th>\n",
       "      <th>Customer</th>\n",
       "      <th>Age</th>\n",
       "      <th>City</th>\n",
       "      <th>Product</th>\n",
       "      <th>Limit</th>\n",
       "      <th>Company</th>\n",
       "      <th>Segment</th>\n",
       "      <th>repay_date</th>\n",
       "      <th>amt_repay</th>\n",
       "    </tr>\n",
       "  </thead>\n",
       "  <tbody>\n",
       "  </tbody>\n",
       "</table>\n",
       "</div>"
      ],
      "text/plain": [
       "Empty DataFrame\n",
       "Columns: [Customer, Age, City, Product, Limit, Company, Segment, repay_date, amt_repay]\n",
       "Index: []"
      ]
     },
     "execution_count": 30,
     "metadata": {},
     "output_type": "execute_result"
    }
   ],
   "source": [
    "repay_data.loc[repay_data['amt_repay'] > repay_data['Limit']]"
   ]
  },
  {
   "cell_type": "markdown",
   "metadata": {},
   "source": [
    "## Q2. From the above dataset create the following summaries:\n",
    "### (a) How many distinct customers exist?"
   ]
  },
  {
   "cell_type": "code",
   "execution_count": 31,
   "metadata": {},
   "outputs": [
    {
     "data": {
      "text/plain": [
       "(100, 100)"
      ]
     },
     "execution_count": 31,
     "metadata": {},
     "output_type": "execute_result"
    }
   ],
   "source": [
    "spend_data.Customer.nunique(), repay_data.Customer.nunique()"
   ]
  },
  {
   "cell_type": "markdown",
   "metadata": {},
   "source": [
    "### (b) How many distinct categories exist?"
   ]
  },
  {
   "cell_type": "code",
   "execution_count": 32,
   "metadata": {},
   "outputs": [
    {
     "data": {
      "text/plain": [
       "(5, 5)"
      ]
     },
     "execution_count": 32,
     "metadata": {},
     "output_type": "execute_result"
    }
   ],
   "source": [
    "spend_data.Segment.nunique(), repay_data.Segment.nunique()"
   ]
  },
  {
   "cell_type": "markdown",
   "metadata": {},
   "source": [
    "### (c) What is the average monthly spend by customers?"
   ]
  },
  {
   "cell_type": "code",
   "execution_count": 33,
   "metadata": {},
   "outputs": [
    {
     "data": {
      "text/plain": [
       "6191016.485352113"
      ]
     },
     "execution_count": 33,
     "metadata": {},
     "output_type": "execute_result"
    }
   ],
   "source": [
    "spend_data.amt_spend.sum()/(((max(spend_data['spend_date']) - min(spend_data['spend_date'])).days)/30)"
   ]
  },
  {
   "cell_type": "markdown",
   "metadata": {},
   "source": [
    "### (d) What is the average monthly repayment by customers?"
   ]
  },
  {
   "cell_type": "code",
   "execution_count": 34,
   "metadata": {},
   "outputs": [
    {
     "data": {
      "text/plain": [
       "6900911.551830986"
      ]
     },
     "execution_count": 34,
     "metadata": {},
     "output_type": "execute_result"
    }
   ],
   "source": [
    "repay_data.amt_repay.sum()/(((max(repay_data['repay_date']) - min(repay_data['repay_date'])).days)/30)"
   ]
  },
  {
   "cell_type": "markdown",
   "metadata": {},
   "source": [
    "### (e) If the monthly rate of interest is 2.9%, what is the profit for the bank for each month? (Profit is defined as interest earned on Monthly Profit. Monthly Profit = Monthly repayment – Monthly spend. Interest is earned only on positive profits and not on negative amounts)"
   ]
  },
  {
   "cell_type": "code",
   "execution_count": 35,
   "metadata": {},
   "outputs": [],
   "source": [
    "monthly_spend = pd.DataFrame(spend_data.groupby([pd.DatetimeIndex(spend_data['spend_date']).year,\n",
    "                                                 pd.DatetimeIndex(spend_data['spend_date']).month]).amt_spend.sum())"
   ]
  },
  {
   "cell_type": "code",
   "execution_count": 36,
   "metadata": {},
   "outputs": [],
   "source": [
    "monthly_spend.index.names = ['Year', 'Month']"
   ]
  },
  {
   "cell_type": "code",
   "execution_count": 37,
   "metadata": {},
   "outputs": [
    {
     "data": {
      "text/plain": [
       "FrozenList(['Year', 'Month'])"
      ]
     },
     "execution_count": 37,
     "metadata": {},
     "output_type": "execute_result"
    }
   ],
   "source": [
    "monthly_spend.index.names"
   ]
  },
  {
   "cell_type": "code",
   "execution_count": 38,
   "metadata": {},
   "outputs": [],
   "source": [
    "monthly_spend.reset_index(inplace = True)"
   ]
  },
  {
   "cell_type": "code",
   "execution_count": 39,
   "metadata": {},
   "outputs": [],
   "source": [
    "monthly_repay = pd.DataFrame(repay_data.groupby([pd.DatetimeIndex(repay_data['repay_date']).year,\n",
    "                                                 pd.DatetimeIndex(repay_data['repay_date']).month]).amt_repay.sum())"
   ]
  },
  {
   "cell_type": "code",
   "execution_count": 40,
   "metadata": {},
   "outputs": [],
   "source": [
    "monthly_repay.index.names = ['Year', 'Month']"
   ]
  },
  {
   "cell_type": "code",
   "execution_count": 41,
   "metadata": {},
   "outputs": [
    {
     "data": {
      "text/plain": [
       "FrozenList(['Year', 'Month'])"
      ]
     },
     "execution_count": 41,
     "metadata": {},
     "output_type": "execute_result"
    }
   ],
   "source": [
    "monthly_repay.index.names"
   ]
  },
  {
   "cell_type": "code",
   "execution_count": 42,
   "metadata": {},
   "outputs": [],
   "source": [
    "monthly_repay.reset_index(inplace = True)"
   ]
  },
  {
   "cell_type": "code",
   "execution_count": 43,
   "metadata": {},
   "outputs": [],
   "source": [
    "monthly_profit = pd.merge(left = monthly_spend, right = monthly_repay, on = ['Year', 'Month'], how = 'inner')"
   ]
  },
  {
   "cell_type": "code",
   "execution_count": 44,
   "metadata": {},
   "outputs": [],
   "source": [
    "monthly_profit['profit'] = np.where((monthly_profit['amt_repay'] - monthly_profit['amt_spend']) > 0, \n",
    "                                    0.29*(monthly_profit['amt_repay'] - monthly_profit['amt_spend']), 0)"
   ]
  },
  {
   "cell_type": "code",
   "execution_count": 45,
   "metadata": {},
   "outputs": [
    {
     "data": {
      "text/html": [
       "<div>\n",
       "<style scoped>\n",
       "    .dataframe tbody tr th:only-of-type {\n",
       "        vertical-align: middle;\n",
       "    }\n",
       "\n",
       "    .dataframe tbody tr th {\n",
       "        vertical-align: top;\n",
       "    }\n",
       "\n",
       "    .dataframe thead th {\n",
       "        text-align: right;\n",
       "    }\n",
       "</style>\n",
       "<table border=\"1\" class=\"dataframe\">\n",
       "  <thead>\n",
       "    <tr style=\"text-align: right;\">\n",
       "      <th></th>\n",
       "      <th>Year</th>\n",
       "      <th>Month</th>\n",
       "      <th>amt_spend</th>\n",
       "      <th>amt_repay</th>\n",
       "      <th>profit</th>\n",
       "    </tr>\n",
       "  </thead>\n",
       "  <tbody>\n",
       "    <tr>\n",
       "      <th>0</th>\n",
       "      <td>2004</td>\n",
       "      <td>1</td>\n",
       "      <td>44279811.96</td>\n",
       "      <td>44792020.72</td>\n",
       "      <td>1.485405e+05</td>\n",
       "    </tr>\n",
       "    <tr>\n",
       "      <th>1</th>\n",
       "      <td>2004</td>\n",
       "      <td>2</td>\n",
       "      <td>3835951.84</td>\n",
       "      <td>3391537.65</td>\n",
       "      <td>0.000000e+00</td>\n",
       "    </tr>\n",
       "    <tr>\n",
       "      <th>2</th>\n",
       "      <td>2004</td>\n",
       "      <td>3</td>\n",
       "      <td>1871913.27</td>\n",
       "      <td>2666519.22</td>\n",
       "      <td>2.304357e+05</td>\n",
       "    </tr>\n",
       "    <tr>\n",
       "      <th>3</th>\n",
       "      <td>2004</td>\n",
       "      <td>4</td>\n",
       "      <td>3489415.34</td>\n",
       "      <td>5268979.74</td>\n",
       "      <td>5.160737e+05</td>\n",
       "    </tr>\n",
       "    <tr>\n",
       "      <th>4</th>\n",
       "      <td>2004</td>\n",
       "      <td>5</td>\n",
       "      <td>2146577.36</td>\n",
       "      <td>3782759.91</td>\n",
       "      <td>4.744929e+05</td>\n",
       "    </tr>\n",
       "    <tr>\n",
       "      <th>5</th>\n",
       "      <td>2004</td>\n",
       "      <td>9</td>\n",
       "      <td>2402109.69</td>\n",
       "      <td>1902816.41</td>\n",
       "      <td>0.000000e+00</td>\n",
       "    </tr>\n",
       "    <tr>\n",
       "      <th>6</th>\n",
       "      <td>2004</td>\n",
       "      <td>11</td>\n",
       "      <td>1114989.10</td>\n",
       "      <td>1788398.63</td>\n",
       "      <td>1.952888e+05</td>\n",
       "    </tr>\n",
       "    <tr>\n",
       "      <th>7</th>\n",
       "      <td>2005</td>\n",
       "      <td>1</td>\n",
       "      <td>5383606.78</td>\n",
       "      <td>4894040.25</td>\n",
       "      <td>0.000000e+00</td>\n",
       "    </tr>\n",
       "    <tr>\n",
       "      <th>8</th>\n",
       "      <td>2005</td>\n",
       "      <td>2</td>\n",
       "      <td>25928183.21</td>\n",
       "      <td>25491800.20</td>\n",
       "      <td>0.000000e+00</td>\n",
       "    </tr>\n",
       "    <tr>\n",
       "      <th>9</th>\n",
       "      <td>2005</td>\n",
       "      <td>4</td>\n",
       "      <td>4100065.73</td>\n",
       "      <td>3634903.56</td>\n",
       "      <td>0.000000e+00</td>\n",
       "    </tr>\n",
       "    <tr>\n",
       "      <th>10</th>\n",
       "      <td>2005</td>\n",
       "      <td>5</td>\n",
       "      <td>21647612.42</td>\n",
       "      <td>30818764.69</td>\n",
       "      <td>2.659634e+06</td>\n",
       "    </tr>\n",
       "    <tr>\n",
       "      <th>11</th>\n",
       "      <td>2005</td>\n",
       "      <td>6</td>\n",
       "      <td>8010511.98</td>\n",
       "      <td>3493885.53</td>\n",
       "      <td>0.000000e+00</td>\n",
       "    </tr>\n",
       "    <tr>\n",
       "      <th>12</th>\n",
       "      <td>2005</td>\n",
       "      <td>7</td>\n",
       "      <td>1691243.28</td>\n",
       "      <td>1799339.14</td>\n",
       "      <td>3.134780e+04</td>\n",
       "    </tr>\n",
       "    <tr>\n",
       "      <th>13</th>\n",
       "      <td>2005</td>\n",
       "      <td>8</td>\n",
       "      <td>3967808.19</td>\n",
       "      <td>5549411.88</td>\n",
       "      <td>4.586651e+05</td>\n",
       "    </tr>\n",
       "    <tr>\n",
       "      <th>14</th>\n",
       "      <td>2005</td>\n",
       "      <td>9</td>\n",
       "      <td>1531932.87</td>\n",
       "      <td>882719.54</td>\n",
       "      <td>0.000000e+00</td>\n",
       "    </tr>\n",
       "    <tr>\n",
       "      <th>15</th>\n",
       "      <td>2005</td>\n",
       "      <td>10</td>\n",
       "      <td>1258311.90</td>\n",
       "      <td>1635219.22</td>\n",
       "      <td>1.093031e+05</td>\n",
       "    </tr>\n",
       "    <tr>\n",
       "      <th>16</th>\n",
       "      <td>2005</td>\n",
       "      <td>11</td>\n",
       "      <td>7481048.89</td>\n",
       "      <td>7107487.13</td>\n",
       "      <td>0.000000e+00</td>\n",
       "    </tr>\n",
       "    <tr>\n",
       "      <th>17</th>\n",
       "      <td>2005</td>\n",
       "      <td>12</td>\n",
       "      <td>1181824.00</td>\n",
       "      <td>2149428.61</td>\n",
       "      <td>2.806053e+05</td>\n",
       "    </tr>\n",
       "    <tr>\n",
       "      <th>18</th>\n",
       "      <td>2006</td>\n",
       "      <td>1</td>\n",
       "      <td>1908375.22</td>\n",
       "      <td>2453064.46</td>\n",
       "      <td>1.579599e+05</td>\n",
       "    </tr>\n",
       "    <tr>\n",
       "      <th>19</th>\n",
       "      <td>2006</td>\n",
       "      <td>2</td>\n",
       "      <td>6236117.45</td>\n",
       "      <td>7339728.53</td>\n",
       "      <td>3.200472e+05</td>\n",
       "    </tr>\n",
       "    <tr>\n",
       "      <th>20</th>\n",
       "      <td>2006</td>\n",
       "      <td>3</td>\n",
       "      <td>28583302.72</td>\n",
       "      <td>31591837.84</td>\n",
       "      <td>8.724752e+05</td>\n",
       "    </tr>\n",
       "    <tr>\n",
       "      <th>21</th>\n",
       "      <td>2006</td>\n",
       "      <td>4</td>\n",
       "      <td>12665908.03</td>\n",
       "      <td>16247638.94</td>\n",
       "      <td>1.038702e+06</td>\n",
       "    </tr>\n",
       "    <tr>\n",
       "      <th>22</th>\n",
       "      <td>2006</td>\n",
       "      <td>5</td>\n",
       "      <td>8046846.48</td>\n",
       "      <td>14900517.86</td>\n",
       "      <td>1.987565e+06</td>\n",
       "    </tr>\n",
       "    <tr>\n",
       "      <th>23</th>\n",
       "      <td>2006</td>\n",
       "      <td>6</td>\n",
       "      <td>2183600.98</td>\n",
       "      <td>1985148.84</td>\n",
       "      <td>0.000000e+00</td>\n",
       "    </tr>\n",
       "    <tr>\n",
       "      <th>24</th>\n",
       "      <td>2006</td>\n",
       "      <td>7</td>\n",
       "      <td>5294483.07</td>\n",
       "      <td>6295652.89</td>\n",
       "      <td>2.903392e+05</td>\n",
       "    </tr>\n",
       "    <tr>\n",
       "      <th>25</th>\n",
       "      <td>2006</td>\n",
       "      <td>8</td>\n",
       "      <td>2994094.85</td>\n",
       "      <td>1938641.97</td>\n",
       "      <td>0.000000e+00</td>\n",
       "    </tr>\n",
       "    <tr>\n",
       "      <th>26</th>\n",
       "      <td>2006</td>\n",
       "      <td>9</td>\n",
       "      <td>1993489.03</td>\n",
       "      <td>2388294.79</td>\n",
       "      <td>1.144937e+05</td>\n",
       "    </tr>\n",
       "    <tr>\n",
       "      <th>27</th>\n",
       "      <td>2006</td>\n",
       "      <td>10</td>\n",
       "      <td>2410188.02</td>\n",
       "      <td>2447635.07</td>\n",
       "      <td>1.085964e+04</td>\n",
       "    </tr>\n",
       "    <tr>\n",
       "      <th>28</th>\n",
       "      <td>2006</td>\n",
       "      <td>11</td>\n",
       "      <td>4039950.52</td>\n",
       "      <td>3930259.60</td>\n",
       "      <td>0.000000e+00</td>\n",
       "    </tr>\n",
       "    <tr>\n",
       "      <th>29</th>\n",
       "      <td>2006</td>\n",
       "      <td>12</td>\n",
       "      <td>2101811.05</td>\n",
       "      <td>2413907.27</td>\n",
       "      <td>9.050790e+04</td>\n",
       "    </tr>\n",
       "  </tbody>\n",
       "</table>\n",
       "</div>"
      ],
      "text/plain": [
       "    Year  Month    amt_spend    amt_repay        profit\n",
       "0   2004      1  44279811.96  44792020.72  1.485405e+05\n",
       "1   2004      2   3835951.84   3391537.65  0.000000e+00\n",
       "2   2004      3   1871913.27   2666519.22  2.304357e+05\n",
       "3   2004      4   3489415.34   5268979.74  5.160737e+05\n",
       "4   2004      5   2146577.36   3782759.91  4.744929e+05\n",
       "5   2004      9   2402109.69   1902816.41  0.000000e+00\n",
       "6   2004     11   1114989.10   1788398.63  1.952888e+05\n",
       "7   2005      1   5383606.78   4894040.25  0.000000e+00\n",
       "8   2005      2  25928183.21  25491800.20  0.000000e+00\n",
       "9   2005      4   4100065.73   3634903.56  0.000000e+00\n",
       "10  2005      5  21647612.42  30818764.69  2.659634e+06\n",
       "11  2005      6   8010511.98   3493885.53  0.000000e+00\n",
       "12  2005      7   1691243.28   1799339.14  3.134780e+04\n",
       "13  2005      8   3967808.19   5549411.88  4.586651e+05\n",
       "14  2005      9   1531932.87    882719.54  0.000000e+00\n",
       "15  2005     10   1258311.90   1635219.22  1.093031e+05\n",
       "16  2005     11   7481048.89   7107487.13  0.000000e+00\n",
       "17  2005     12   1181824.00   2149428.61  2.806053e+05\n",
       "18  2006      1   1908375.22   2453064.46  1.579599e+05\n",
       "19  2006      2   6236117.45   7339728.53  3.200472e+05\n",
       "20  2006      3  28583302.72  31591837.84  8.724752e+05\n",
       "21  2006      4  12665908.03  16247638.94  1.038702e+06\n",
       "22  2006      5   8046846.48  14900517.86  1.987565e+06\n",
       "23  2006      6   2183600.98   1985148.84  0.000000e+00\n",
       "24  2006      7   5294483.07   6295652.89  2.903392e+05\n",
       "25  2006      8   2994094.85   1938641.97  0.000000e+00\n",
       "26  2006      9   1993489.03   2388294.79  1.144937e+05\n",
       "27  2006     10   2410188.02   2447635.07  1.085964e+04\n",
       "28  2006     11   4039950.52   3930259.60  0.000000e+00\n",
       "29  2006     12   2101811.05   2413907.27  9.050790e+04"
      ]
     },
     "execution_count": 45,
     "metadata": {},
     "output_type": "execute_result"
    }
   ],
   "source": [
    "monthly_profit"
   ]
  },
  {
   "cell_type": "markdown",
   "metadata": {},
   "source": [
    "### (f) What are the top 5 product types?"
   ]
  },
  {
   "cell_type": "code",
   "execution_count": 46,
   "metadata": {},
   "outputs": [
    {
     "data": {
      "text/plain": [
       "Type\n",
       "PETRO           28597384.98\n",
       "CAMERA          27690738.44\n",
       "FOOD            20519243.60\n",
       "AIR TICKET      20155847.12\n",
       "TRAIN TICKET    19995825.72\n",
       "Name: amt_spend, dtype: float64"
      ]
     },
     "execution_count": 46,
     "metadata": {},
     "output_type": "execute_result"
    }
   ],
   "source": [
    "(spend_data.groupby('Type').amt_spend.sum()).sort_values(ascending = False).head()"
   ]
  },
  {
   "cell_type": "markdown",
   "metadata": {},
   "source": [
    "### (g) Which city is having maximum spend?"
   ]
  },
  {
   "cell_type": "code",
   "execution_count": 47,
   "metadata": {},
   "outputs": [
    {
     "data": {
      "text/plain": [
       "City\n",
       "COCHIN    45963513.5\n",
       "Name: amt_spend, dtype: float64"
      ]
     },
     "execution_count": 47,
     "metadata": {},
     "output_type": "execute_result"
    }
   ],
   "source": [
    "spend_data.groupby('City').amt_spend.sum().sort_values(ascending = False).head(1)"
   ]
  },
  {
   "cell_type": "markdown",
   "metadata": {},
   "source": [
    "### (h) Which age group is spending more money?"
   ]
  },
  {
   "cell_type": "code",
   "execution_count": 48,
   "metadata": {},
   "outputs": [],
   "source": [
    "spend_data['age_category'] = np.where(spend_data['Age'] > 60, 'Senior', \n",
    "                                     np.where(spend_data['Age'] > 30, 'Adult', 'Youth'))"
   ]
  },
  {
   "cell_type": "code",
   "execution_count": 49,
   "metadata": {},
   "outputs": [
    {
     "data": {
      "text/plain": [
       "age_category\n",
       "Adult     1.240806e+08\n",
       "Youth     5.268990e+07\n",
       "Senior    4.301063e+07\n",
       "Name: amt_spend, dtype: float64"
      ]
     },
     "execution_count": 49,
     "metadata": {},
     "output_type": "execute_result"
    }
   ],
   "source": [
    "spend_data.groupby('age_category').amt_spend.sum().sort_values(ascending = False)"
   ]
  },
  {
   "cell_type": "markdown",
   "metadata": {},
   "source": [
    "### (i) Who are the top 10 customers in terms of repayment?"
   ]
  },
  {
   "cell_type": "code",
   "execution_count": 50,
   "metadata": {},
   "outputs": [
    {
     "data": {
      "text/plain": [
       "Customer\n",
       "A61    10539142.91\n",
       "A60     9876290.74\n",
       "A13     9572000.66\n",
       "A43     8489871.46\n",
       "A45     8448334.87\n",
       "A12     8334760.16\n",
       "A14     7943268.63\n",
       "A44     7744730.12\n",
       "A39     7622483.30\n",
       "A42     7615460.86\n",
       "Name: amt_repay, dtype: float64"
      ]
     },
     "execution_count": 50,
     "metadata": {},
     "output_type": "execute_result"
    }
   ],
   "source": [
    "repay_data.groupby('Customer').amt_repay.sum().sort_values(ascending = False).head(10)"
   ]
  },
  {
   "cell_type": "markdown",
   "metadata": {},
   "source": [
    "## Q3. Calculate the city wise spend on each product on yearly basis. Also include a graphical representation for the same."
   ]
  },
  {
   "cell_type": "code",
   "execution_count": 51,
   "metadata": {},
   "outputs": [
    {
     "data": {
      "text/html": [
       "<div>\n",
       "<style scoped>\n",
       "    .dataframe tbody tr th:only-of-type {\n",
       "        vertical-align: middle;\n",
       "    }\n",
       "\n",
       "    .dataframe tbody tr th {\n",
       "        vertical-align: top;\n",
       "    }\n",
       "\n",
       "    .dataframe thead th {\n",
       "        text-align: right;\n",
       "    }\n",
       "</style>\n",
       "<table border=\"1\" class=\"dataframe\">\n",
       "  <thead>\n",
       "    <tr style=\"text-align: right;\">\n",
       "      <th></th>\n",
       "      <th></th>\n",
       "      <th></th>\n",
       "      <th>amt_spend</th>\n",
       "    </tr>\n",
       "    <tr>\n",
       "      <th>City</th>\n",
       "      <th>Type</th>\n",
       "      <th>spend_date</th>\n",
       "      <th></th>\n",
       "    </tr>\n",
       "  </thead>\n",
       "  <tbody>\n",
       "    <tr>\n",
       "      <th rowspan=\"5\" valign=\"top\">BANGALORE</th>\n",
       "      <th rowspan=\"3\" valign=\"top\">AIR TICKET</th>\n",
       "      <th>2004</th>\n",
       "      <td>749981.04</td>\n",
       "    </tr>\n",
       "    <tr>\n",
       "      <th>2005</th>\n",
       "      <td>1972296.92</td>\n",
       "    </tr>\n",
       "    <tr>\n",
       "      <th>2006</th>\n",
       "      <td>1311522.46</td>\n",
       "    </tr>\n",
       "    <tr>\n",
       "      <th rowspan=\"2\" valign=\"top\">AUTO</th>\n",
       "      <th>2005</th>\n",
       "      <td>141539.79</td>\n",
       "    </tr>\n",
       "    <tr>\n",
       "      <th>2006</th>\n",
       "      <td>822785.32</td>\n",
       "    </tr>\n",
       "    <tr>\n",
       "      <th>...</th>\n",
       "      <th>...</th>\n",
       "      <th>...</th>\n",
       "      <td>...</td>\n",
       "    </tr>\n",
       "    <tr>\n",
       "      <th rowspan=\"5\" valign=\"top\">TRIVANDRUM</th>\n",
       "      <th rowspan=\"2\" valign=\"top\">SHOPPING</th>\n",
       "      <th>2005</th>\n",
       "      <td>428833.42</td>\n",
       "    </tr>\n",
       "    <tr>\n",
       "      <th>2006</th>\n",
       "      <td>100001.00</td>\n",
       "    </tr>\n",
       "    <tr>\n",
       "      <th rowspan=\"3\" valign=\"top\">TRAIN TICKET</th>\n",
       "      <th>2004</th>\n",
       "      <td>177612.22</td>\n",
       "    </tr>\n",
       "    <tr>\n",
       "      <th>2005</th>\n",
       "      <td>276962.03</td>\n",
       "    </tr>\n",
       "    <tr>\n",
       "      <th>2006</th>\n",
       "      <td>262422.86</td>\n",
       "    </tr>\n",
       "  </tbody>\n",
       "</table>\n",
       "<p>321 rows × 1 columns</p>\n",
       "</div>"
      ],
      "text/plain": [
       "                                     amt_spend\n",
       "City       Type         spend_date            \n",
       "BANGALORE  AIR TICKET   2004         749981.04\n",
       "                        2005        1972296.92\n",
       "                        2006        1311522.46\n",
       "           AUTO         2005         141539.79\n",
       "                        2006         822785.32\n",
       "...                                        ...\n",
       "TRIVANDRUM SHOPPING     2005         428833.42\n",
       "                        2006         100001.00\n",
       "           TRAIN TICKET 2004         177612.22\n",
       "                        2005         276962.03\n",
       "                        2006         262422.86\n",
       "\n",
       "[321 rows x 1 columns]"
      ]
     },
     "execution_count": 51,
     "metadata": {},
     "output_type": "execute_result"
    }
   ],
   "source": [
    "q3_data = pd.DataFrame(spend_data.groupby(['City', 'Type', pd.DatetimeIndex(spend_data['spend_date']).year]).amt_spend.sum())\n",
    "q3_data"
   ]
  },
  {
   "cell_type": "code",
   "execution_count": 52,
   "metadata": {},
   "outputs": [],
   "source": [
    "q3_data.reset_index(inplace = True)"
   ]
  },
  {
   "cell_type": "code",
   "execution_count": 53,
   "metadata": {},
   "outputs": [
    {
     "data": {
      "text/html": [
       "<div>\n",
       "<style scoped>\n",
       "    .dataframe tbody tr th:only-of-type {\n",
       "        vertical-align: middle;\n",
       "    }\n",
       "\n",
       "    .dataframe tbody tr th {\n",
       "        vertical-align: top;\n",
       "    }\n",
       "\n",
       "    .dataframe thead th {\n",
       "        text-align: right;\n",
       "    }\n",
       "</style>\n",
       "<table border=\"1\" class=\"dataframe\">\n",
       "  <thead>\n",
       "    <tr style=\"text-align: right;\">\n",
       "      <th></th>\n",
       "      <th>City</th>\n",
       "      <th>Type</th>\n",
       "      <th>spend_date</th>\n",
       "      <th>amt_spend</th>\n",
       "    </tr>\n",
       "  </thead>\n",
       "  <tbody>\n",
       "    <tr>\n",
       "      <th>0</th>\n",
       "      <td>BANGALORE</td>\n",
       "      <td>AIR TICKET</td>\n",
       "      <td>2004</td>\n",
       "      <td>749981.04</td>\n",
       "    </tr>\n",
       "    <tr>\n",
       "      <th>1</th>\n",
       "      <td>BANGALORE</td>\n",
       "      <td>AIR TICKET</td>\n",
       "      <td>2005</td>\n",
       "      <td>1972296.92</td>\n",
       "    </tr>\n",
       "    <tr>\n",
       "      <th>2</th>\n",
       "      <td>BANGALORE</td>\n",
       "      <td>AIR TICKET</td>\n",
       "      <td>2006</td>\n",
       "      <td>1311522.46</td>\n",
       "    </tr>\n",
       "    <tr>\n",
       "      <th>3</th>\n",
       "      <td>BANGALORE</td>\n",
       "      <td>AUTO</td>\n",
       "      <td>2005</td>\n",
       "      <td>141539.79</td>\n",
       "    </tr>\n",
       "    <tr>\n",
       "      <th>4</th>\n",
       "      <td>BANGALORE</td>\n",
       "      <td>AUTO</td>\n",
       "      <td>2006</td>\n",
       "      <td>822785.32</td>\n",
       "    </tr>\n",
       "    <tr>\n",
       "      <th>...</th>\n",
       "      <td>...</td>\n",
       "      <td>...</td>\n",
       "      <td>...</td>\n",
       "      <td>...</td>\n",
       "    </tr>\n",
       "    <tr>\n",
       "      <th>316</th>\n",
       "      <td>TRIVANDRUM</td>\n",
       "      <td>SHOPPING</td>\n",
       "      <td>2005</td>\n",
       "      <td>428833.42</td>\n",
       "    </tr>\n",
       "    <tr>\n",
       "      <th>317</th>\n",
       "      <td>TRIVANDRUM</td>\n",
       "      <td>SHOPPING</td>\n",
       "      <td>2006</td>\n",
       "      <td>100001.00</td>\n",
       "    </tr>\n",
       "    <tr>\n",
       "      <th>318</th>\n",
       "      <td>TRIVANDRUM</td>\n",
       "      <td>TRAIN TICKET</td>\n",
       "      <td>2004</td>\n",
       "      <td>177612.22</td>\n",
       "    </tr>\n",
       "    <tr>\n",
       "      <th>319</th>\n",
       "      <td>TRIVANDRUM</td>\n",
       "      <td>TRAIN TICKET</td>\n",
       "      <td>2005</td>\n",
       "      <td>276962.03</td>\n",
       "    </tr>\n",
       "    <tr>\n",
       "      <th>320</th>\n",
       "      <td>TRIVANDRUM</td>\n",
       "      <td>TRAIN TICKET</td>\n",
       "      <td>2006</td>\n",
       "      <td>262422.86</td>\n",
       "    </tr>\n",
       "  </tbody>\n",
       "</table>\n",
       "<p>321 rows × 4 columns</p>\n",
       "</div>"
      ],
      "text/plain": [
       "           City          Type  spend_date   amt_spend\n",
       "0     BANGALORE    AIR TICKET        2004   749981.04\n",
       "1     BANGALORE    AIR TICKET        2005  1972296.92\n",
       "2     BANGALORE    AIR TICKET        2006  1311522.46\n",
       "3     BANGALORE          AUTO        2005   141539.79\n",
       "4     BANGALORE          AUTO        2006   822785.32\n",
       "..          ...           ...         ...         ...\n",
       "316  TRIVANDRUM      SHOPPING        2005   428833.42\n",
       "317  TRIVANDRUM      SHOPPING        2006   100001.00\n",
       "318  TRIVANDRUM  TRAIN TICKET        2004   177612.22\n",
       "319  TRIVANDRUM  TRAIN TICKET        2005   276962.03\n",
       "320  TRIVANDRUM  TRAIN TICKET        2006   262422.86\n",
       "\n",
       "[321 rows x 4 columns]"
      ]
     },
     "execution_count": 53,
     "metadata": {},
     "output_type": "execute_result"
    }
   ],
   "source": [
    "q3_data"
   ]
  },
  {
   "cell_type": "code",
   "execution_count": 129,
   "metadata": {},
   "outputs": [],
   "source": [
    "from plotnine import ggplot, aes, geom_bar, geom_line, facet_grid"
   ]
  },
  {
   "cell_type": "code",
   "execution_count": 55,
   "metadata": {},
   "outputs": [],
   "source": [
    "q3_plot = (ggplot(data = q3_data) +\n",
    "          aes(x = 'City', y = 'amt_spend', fill = 'Type') + \n",
    "          geom_bar(stat = 'identity') + \n",
    "          facet_grid('spend_date~'))"
   ]
  },
  {
   "cell_type": "code",
   "execution_count": 56,
   "metadata": {},
   "outputs": [
    {
     "data": {
      "image/png": "[encoded data removed]",
      "text/plain": [
       "<Figure size 640x480 with 3 Axes>"
      ]
     },
     "metadata": {},
     "output_type": "display_data"
    },
    {
     "data": {
      "text/plain": [
       "<ggplot: (145014410192)>"
      ]
     },
     "execution_count": 56,
     "metadata": {},
     "output_type": "execute_result"
    }
   ],
   "source": [
    "q3_plot"
   ]
  },
  {
   "cell_type": "markdown",
   "metadata": {},
   "source": [
    "## Q4. Create graphs for\n",
    "### (a) Monthly comparison of total spends, city wise"
   ]
  },
  {
   "cell_type": "code",
   "execution_count": 106,
   "metadata": {},
   "outputs": [
    {
     "data": {
      "text/html": [
       "<div>\n",
       "<style scoped>\n",
       "    .dataframe tbody tr th:only-of-type {\n",
       "        vertical-align: middle;\n",
       "    }\n",
       "\n",
       "    .dataframe tbody tr th {\n",
       "        vertical-align: top;\n",
       "    }\n",
       "\n",
       "    .dataframe thead th {\n",
       "        text-align: right;\n",
       "    }\n",
       "</style>\n",
       "<table border=\"1\" class=\"dataframe\">\n",
       "  <thead>\n",
       "    <tr style=\"text-align: right;\">\n",
       "      <th></th>\n",
       "      <th>City</th>\n",
       "      <th>spend_date</th>\n",
       "      <th>amt_spend</th>\n",
       "    </tr>\n",
       "  </thead>\n",
       "  <tbody>\n",
       "    <tr>\n",
       "      <th>0</th>\n",
       "      <td>BANGALORE</td>\n",
       "      <td>1</td>\n",
       "      <td>9041796.84</td>\n",
       "    </tr>\n",
       "    <tr>\n",
       "      <th>1</th>\n",
       "      <td>BANGALORE</td>\n",
       "      <td>2</td>\n",
       "      <td>6734494.76</td>\n",
       "    </tr>\n",
       "    <tr>\n",
       "      <th>2</th>\n",
       "      <td>BANGALORE</td>\n",
       "      <td>3</td>\n",
       "      <td>5362903.07</td>\n",
       "    </tr>\n",
       "    <tr>\n",
       "      <th>3</th>\n",
       "      <td>BANGALORE</td>\n",
       "      <td>4</td>\n",
       "      <td>4207980.48</td>\n",
       "    </tr>\n",
       "    <tr>\n",
       "      <th>4</th>\n",
       "      <td>BANGALORE</td>\n",
       "      <td>5</td>\n",
       "      <td>6383115.13</td>\n",
       "    </tr>\n",
       "    <tr>\n",
       "      <th>...</th>\n",
       "      <td>...</td>\n",
       "      <td>...</td>\n",
       "      <td>...</td>\n",
       "    </tr>\n",
       "    <tr>\n",
       "      <th>91</th>\n",
       "      <td>TRIVANDRUM</td>\n",
       "      <td>8</td>\n",
       "      <td>453773.94</td>\n",
       "    </tr>\n",
       "    <tr>\n",
       "      <th>92</th>\n",
       "      <td>TRIVANDRUM</td>\n",
       "      <td>9</td>\n",
       "      <td>186063.70</td>\n",
       "    </tr>\n",
       "    <tr>\n",
       "      <th>93</th>\n",
       "      <td>TRIVANDRUM</td>\n",
       "      <td>10</td>\n",
       "      <td>285581.92</td>\n",
       "    </tr>\n",
       "    <tr>\n",
       "      <th>94</th>\n",
       "      <td>TRIVANDRUM</td>\n",
       "      <td>11</td>\n",
       "      <td>143387.40</td>\n",
       "    </tr>\n",
       "    <tr>\n",
       "      <th>95</th>\n",
       "      <td>TRIVANDRUM</td>\n",
       "      <td>12</td>\n",
       "      <td>640922.26</td>\n",
       "    </tr>\n",
       "  </tbody>\n",
       "</table>\n",
       "<p>96 rows × 3 columns</p>\n",
       "</div>"
      ],
      "text/plain": [
       "          City spend_date   amt_spend\n",
       "0    BANGALORE          1  9041796.84\n",
       "1    BANGALORE          2  6734494.76\n",
       "2    BANGALORE          3  5362903.07\n",
       "3    BANGALORE          4  4207980.48\n",
       "4    BANGALORE          5  6383115.13\n",
       "..         ...        ...         ...\n",
       "91  TRIVANDRUM          8   453773.94\n",
       "92  TRIVANDRUM          9   186063.70\n",
       "93  TRIVANDRUM         10   285581.92\n",
       "94  TRIVANDRUM         11   143387.40\n",
       "95  TRIVANDRUM         12   640922.26\n",
       "\n",
       "[96 rows x 3 columns]"
      ]
     },
     "execution_count": 106,
     "metadata": {},
     "output_type": "execute_result"
    }
   ],
   "source": [
    "q4_a_data = pd.DataFrame(spend_data.groupby(['City', pd.DatetimeIndex(spend_data['spend_date']).month]).amt_spend.sum())\n",
    "q4_a_data.reset_index(inplace = True)\n",
    "q4_a_data.spend_date = q4_a_data.spend_date.astype('object')\n",
    "q4_a_data"
   ]
  },
  {
   "cell_type": "code",
   "execution_count": 116,
   "metadata": {},
   "outputs": [],
   "source": [
    "q4_a_plot = (ggplot(data = q4_a_data) + \n",
    "             aes(x = 'spend_date', y = 'amt_spend', fill = 'City') + \n",
    "            geom_bar(stat = 'identity') + \n",
    "            facet_grid('City~'))"
   ]
  },
  {
   "cell_type": "code",
   "execution_count": 117,
   "metadata": {},
   "outputs": [
    {
     "data": {
      "image/png": "[encoded data removed]",
      "text/plain": [
       "<Figure size 640x480 with 8 Axes>"
      ]
     },
     "metadata": {},
     "output_type": "display_data"
    },
    {
     "data": {
      "text/plain": [
       "<ggplot: (145018451191)>"
      ]
     },
     "execution_count": 117,
     "metadata": {},
     "output_type": "execute_result"
    }
   ],
   "source": [
    "q4_a_plot"
   ]
  },
  {
   "cell_type": "markdown",
   "metadata": {},
   "source": [
    "### Q4. (b) Comparison of yearly spend on air tickets"
   ]
  },
  {
   "cell_type": "code",
   "execution_count": 120,
   "metadata": {},
   "outputs": [
    {
     "data": {
      "text/html": [
       "<div>\n",
       "<style scoped>\n",
       "    .dataframe tbody tr th:only-of-type {\n",
       "        vertical-align: middle;\n",
       "    }\n",
       "\n",
       "    .dataframe tbody tr th {\n",
       "        vertical-align: top;\n",
       "    }\n",
       "\n",
       "    .dataframe thead th {\n",
       "        text-align: right;\n",
       "    }\n",
       "</style>\n",
       "<table border=\"1\" class=\"dataframe\">\n",
       "  <thead>\n",
       "    <tr style=\"text-align: right;\">\n",
       "      <th></th>\n",
       "      <th>Customer</th>\n",
       "      <th>Age</th>\n",
       "      <th>City</th>\n",
       "      <th>Product</th>\n",
       "      <th>Limit</th>\n",
       "      <th>Company</th>\n",
       "      <th>Segment</th>\n",
       "      <th>spend_date</th>\n",
       "      <th>Type</th>\n",
       "      <th>amt_spend</th>\n",
       "      <th>age_category</th>\n",
       "    </tr>\n",
       "  </thead>\n",
       "  <tbody>\n",
       "    <tr>\n",
       "      <th>9</th>\n",
       "      <td>A1</td>\n",
       "      <td>76</td>\n",
       "      <td>BANGALORE</td>\n",
       "      <td>Gold</td>\n",
       "      <td>500000.0</td>\n",
       "      <td>C1</td>\n",
       "      <td>Self Employed</td>\n",
       "      <td>2006-04-19</td>\n",
       "      <td>AIR TICKET</td>\n",
       "      <td>346925.68</td>\n",
       "      <td>Senior</td>\n",
       "    </tr>\n",
       "    <tr>\n",
       "      <th>63</th>\n",
       "      <td>A5</td>\n",
       "      <td>56</td>\n",
       "      <td>BANGALORE</td>\n",
       "      <td>Platimum</td>\n",
       "      <td>10002.0</td>\n",
       "      <td>C5</td>\n",
       "      <td>Normal Salary</td>\n",
       "      <td>2006-03-03</td>\n",
       "      <td>AIR TICKET</td>\n",
       "      <td>5001.00</td>\n",
       "      <td>Adult</td>\n",
       "    </tr>\n",
       "    <tr>\n",
       "      <th>80</th>\n",
       "      <td>A6</td>\n",
       "      <td>70</td>\n",
       "      <td>DELHI</td>\n",
       "      <td>Silver</td>\n",
       "      <td>100000.0</td>\n",
       "      <td>C6</td>\n",
       "      <td>Self Employed</td>\n",
       "      <td>2006-04-03</td>\n",
       "      <td>AIR TICKET</td>\n",
       "      <td>50000.00</td>\n",
       "      <td>Senior</td>\n",
       "    </tr>\n",
       "    <tr>\n",
       "      <th>97</th>\n",
       "      <td>A7</td>\n",
       "      <td>26</td>\n",
       "      <td>COCHIN</td>\n",
       "      <td>Silver</td>\n",
       "      <td>100001.0</td>\n",
       "      <td>C7</td>\n",
       "      <td>Salaried_MNC</td>\n",
       "      <td>2006-05-03</td>\n",
       "      <td>AIR TICKET</td>\n",
       "      <td>50000.50</td>\n",
       "      <td>Youth</td>\n",
       "    </tr>\n",
       "    <tr>\n",
       "      <th>115</th>\n",
       "      <td>A8</td>\n",
       "      <td>67</td>\n",
       "      <td>PATNA</td>\n",
       "      <td>Silver</td>\n",
       "      <td>100002.0</td>\n",
       "      <td>C8</td>\n",
       "      <td>Salaried_Pvt</td>\n",
       "      <td>2006-06-03</td>\n",
       "      <td>AIR TICKET</td>\n",
       "      <td>50001.00</td>\n",
       "      <td>Senior</td>\n",
       "    </tr>\n",
       "    <tr>\n",
       "      <th>...</th>\n",
       "      <td>...</td>\n",
       "      <td>...</td>\n",
       "      <td>...</td>\n",
       "      <td>...</td>\n",
       "      <td>...</td>\n",
       "      <td>...</td>\n",
       "      <td>...</td>\n",
       "      <td>...</td>\n",
       "      <td>...</td>\n",
       "      <td>...</td>\n",
       "      <td>...</td>\n",
       "    </tr>\n",
       "    <tr>\n",
       "      <th>1474</th>\n",
       "      <td>A75</td>\n",
       "      <td>36</td>\n",
       "      <td>BOMBAY</td>\n",
       "      <td>Silver</td>\n",
       "      <td>100003.0</td>\n",
       "      <td>C37</td>\n",
       "      <td>Self Employed</td>\n",
       "      <td>2005-02-23</td>\n",
       "      <td>AIR TICKET</td>\n",
       "      <td>50001.50</td>\n",
       "      <td>Adult</td>\n",
       "    </tr>\n",
       "    <tr>\n",
       "      <th>1475</th>\n",
       "      <td>A76</td>\n",
       "      <td>66</td>\n",
       "      <td>BANGALORE</td>\n",
       "      <td>Silver</td>\n",
       "      <td>500000.0</td>\n",
       "      <td>C38</td>\n",
       "      <td>Self Employed</td>\n",
       "      <td>2005-02-03</td>\n",
       "      <td>AIR TICKET</td>\n",
       "      <td>30066.44</td>\n",
       "      <td>Senior</td>\n",
       "    </tr>\n",
       "    <tr>\n",
       "      <th>1476</th>\n",
       "      <td>A77</td>\n",
       "      <td>35</td>\n",
       "      <td>BANGALORE</td>\n",
       "      <td>Silver</td>\n",
       "      <td>500000.0</td>\n",
       "      <td>C39</td>\n",
       "      <td>Self Employed</td>\n",
       "      <td>2006-02-04</td>\n",
       "      <td>AIR TICKET</td>\n",
       "      <td>31048.93</td>\n",
       "      <td>Adult</td>\n",
       "    </tr>\n",
       "    <tr>\n",
       "      <th>1483</th>\n",
       "      <td>A84</td>\n",
       "      <td>70</td>\n",
       "      <td>PATNA</td>\n",
       "      <td>Silver</td>\n",
       "      <td>100000.0</td>\n",
       "      <td>C7</td>\n",
       "      <td>Govt</td>\n",
       "      <td>2006-03-27</td>\n",
       "      <td>AIR TICKET</td>\n",
       "      <td>50000.00</td>\n",
       "      <td>Senior</td>\n",
       "    </tr>\n",
       "    <tr>\n",
       "      <th>1498</th>\n",
       "      <td>A99</td>\n",
       "      <td>35</td>\n",
       "      <td>CALCUTTA</td>\n",
       "      <td>Platimum</td>\n",
       "      <td>10002.0</td>\n",
       "      <td>C22</td>\n",
       "      <td>Self Employed</td>\n",
       "      <td>2004-01-15</td>\n",
       "      <td>AIR TICKET</td>\n",
       "      <td>5001.00</td>\n",
       "      <td>Adult</td>\n",
       "    </tr>\n",
       "  </tbody>\n",
       "</table>\n",
       "<p>147 rows × 11 columns</p>\n",
       "</div>"
      ],
      "text/plain": [
       "     Customer  Age       City   Product     Limit Company        Segment  \\\n",
       "9          A1   76  BANGALORE      Gold  500000.0      C1  Self Employed   \n",
       "63         A5   56  BANGALORE  Platimum   10002.0      C5  Normal Salary   \n",
       "80         A6   70      DELHI    Silver  100000.0      C6  Self Employed   \n",
       "97         A7   26     COCHIN    Silver  100001.0      C7   Salaried_MNC   \n",
       "115        A8   67      PATNA    Silver  100002.0      C8   Salaried_Pvt   \n",
       "...       ...  ...        ...       ...       ...     ...            ...   \n",
       "1474      A75   36     BOMBAY    Silver  100003.0     C37  Self Employed   \n",
       "1475      A76   66  BANGALORE    Silver  500000.0     C38  Self Employed   \n",
       "1476      A77   35  BANGALORE    Silver  500000.0     C39  Self Employed   \n",
       "1483      A84   70      PATNA    Silver  100000.0      C7           Govt   \n",
       "1498      A99   35   CALCUTTA  Platimum   10002.0     C22  Self Employed   \n",
       "\n",
       "     spend_date        Type  amt_spend age_category  \n",
       "9    2006-04-19  AIR TICKET  346925.68       Senior  \n",
       "63   2006-03-03  AIR TICKET    5001.00        Adult  \n",
       "80   2006-04-03  AIR TICKET   50000.00       Senior  \n",
       "97   2006-05-03  AIR TICKET   50000.50        Youth  \n",
       "115  2006-06-03  AIR TICKET   50001.00       Senior  \n",
       "...         ...         ...        ...          ...  \n",
       "1474 2005-02-23  AIR TICKET   50001.50        Adult  \n",
       "1475 2005-02-03  AIR TICKET   30066.44       Senior  \n",
       "1476 2006-02-04  AIR TICKET   31048.93        Adult  \n",
       "1483 2006-03-27  AIR TICKET   50000.00       Senior  \n",
       "1498 2004-01-15  AIR TICKET    5001.00        Adult  \n",
       "\n",
       "[147 rows x 11 columns]"
      ]
     },
     "execution_count": 120,
     "metadata": {},
     "output_type": "execute_result"
    }
   ],
   "source": [
    "spend_data[spend_data['Type'] == 'AIR TICKET']"
   ]
  },
  {
   "cell_type": "code",
   "execution_count": 124,
   "metadata": {},
   "outputs": [
    {
     "data": {
      "image/png": "[encoded data removed]",
      "text/plain": [
       "<Figure size 1080x360 with 1 Axes>"
      ]
     },
     "metadata": {
      "needs_background": "light"
     },
     "output_type": "display_data"
    }
   ],
   "source": [
    "(spend_data[spend_data['Type'] == 'AIR TICKET'].groupby(pd.DatetimeIndex(spend_data.loc[spend_data['Type'] == 'AIR TICKET', 'spend_date']).year).amt_spend.sum()).plot(kind = 'bar', figsize = (15, 5))\n",
    "plt.title('COMPARISON OF YEARLY SPEND ON AIR TICKET')\n",
    "plt.xlabel('Year')\n",
    "plt.ylabel('Spend')\n",
    "plt.show()"
   ]
  },
  {
   "cell_type": "markdown",
   "metadata": {},
   "source": [
    "### Q4. (c) Comparison of monthly spend for each product (look for any seasonality that exists in terms of spend)"
   ]
  },
  {
   "cell_type": "code",
   "execution_count": 127,
   "metadata": {},
   "outputs": [
    {
     "data": {
      "text/html": [
       "<div>\n",
       "<style scoped>\n",
       "    .dataframe tbody tr th:only-of-type {\n",
       "        vertical-align: middle;\n",
       "    }\n",
       "\n",
       "    .dataframe tbody tr th {\n",
       "        vertical-align: top;\n",
       "    }\n",
       "\n",
       "    .dataframe thead th {\n",
       "        text-align: right;\n",
       "    }\n",
       "</style>\n",
       "<table border=\"1\" class=\"dataframe\">\n",
       "  <thead>\n",
       "    <tr style=\"text-align: right;\">\n",
       "      <th></th>\n",
       "      <th>spend_date</th>\n",
       "      <th>Product</th>\n",
       "      <th>amt_spend</th>\n",
       "    </tr>\n",
       "  </thead>\n",
       "  <tbody>\n",
       "    <tr>\n",
       "      <th>0</th>\n",
       "      <td>1</td>\n",
       "      <td>Gold</td>\n",
       "      <td>32413831.83</td>\n",
       "    </tr>\n",
       "    <tr>\n",
       "      <th>1</th>\n",
       "      <td>1</td>\n",
       "      <td>Platimum</td>\n",
       "      <td>14951578.51</td>\n",
       "    </tr>\n",
       "    <tr>\n",
       "      <th>2</th>\n",
       "      <td>1</td>\n",
       "      <td>Silver</td>\n",
       "      <td>4206383.62</td>\n",
       "    </tr>\n",
       "    <tr>\n",
       "      <th>3</th>\n",
       "      <td>2</td>\n",
       "      <td>Gold</td>\n",
       "      <td>24779179.55</td>\n",
       "    </tr>\n",
       "    <tr>\n",
       "      <th>4</th>\n",
       "      <td>2</td>\n",
       "      <td>Platimum</td>\n",
       "      <td>9134054.58</td>\n",
       "    </tr>\n",
       "    <tr>\n",
       "      <th>5</th>\n",
       "      <td>2</td>\n",
       "      <td>Silver</td>\n",
       "      <td>2087018.37</td>\n",
       "    </tr>\n",
       "    <tr>\n",
       "      <th>6</th>\n",
       "      <td>3</td>\n",
       "      <td>Gold</td>\n",
       "      <td>19256972.48</td>\n",
       "    </tr>\n",
       "    <tr>\n",
       "      <th>7</th>\n",
       "      <td>3</td>\n",
       "      <td>Platimum</td>\n",
       "      <td>7288837.68</td>\n",
       "    </tr>\n",
       "    <tr>\n",
       "      <th>8</th>\n",
       "      <td>3</td>\n",
       "      <td>Silver</td>\n",
       "      <td>3909405.83</td>\n",
       "    </tr>\n",
       "    <tr>\n",
       "      <th>9</th>\n",
       "      <td>4</td>\n",
       "      <td>Gold</td>\n",
       "      <td>13170572.59</td>\n",
       "    </tr>\n",
       "    <tr>\n",
       "      <th>10</th>\n",
       "      <td>4</td>\n",
       "      <td>Platimum</td>\n",
       "      <td>5182493.86</td>\n",
       "    </tr>\n",
       "    <tr>\n",
       "      <th>11</th>\n",
       "      <td>4</td>\n",
       "      <td>Silver</td>\n",
       "      <td>1902322.65</td>\n",
       "    </tr>\n",
       "    <tr>\n",
       "      <th>12</th>\n",
       "      <td>5</td>\n",
       "      <td>Gold</td>\n",
       "      <td>21548169.76</td>\n",
       "    </tr>\n",
       "    <tr>\n",
       "      <th>13</th>\n",
       "      <td>5</td>\n",
       "      <td>Platimum</td>\n",
       "      <td>8151926.49</td>\n",
       "    </tr>\n",
       "    <tr>\n",
       "      <th>14</th>\n",
       "      <td>5</td>\n",
       "      <td>Silver</td>\n",
       "      <td>2140940.01</td>\n",
       "    </tr>\n",
       "    <tr>\n",
       "      <th>15</th>\n",
       "      <td>6</td>\n",
       "      <td>Gold</td>\n",
       "      <td>6538862.64</td>\n",
       "    </tr>\n",
       "    <tr>\n",
       "      <th>16</th>\n",
       "      <td>6</td>\n",
       "      <td>Platimum</td>\n",
       "      <td>2965712.71</td>\n",
       "    </tr>\n",
       "    <tr>\n",
       "      <th>17</th>\n",
       "      <td>6</td>\n",
       "      <td>Silver</td>\n",
       "      <td>689537.61</td>\n",
       "    </tr>\n",
       "    <tr>\n",
       "      <th>18</th>\n",
       "      <td>7</td>\n",
       "      <td>Gold</td>\n",
       "      <td>5167416.37</td>\n",
       "    </tr>\n",
       "    <tr>\n",
       "      <th>19</th>\n",
       "      <td>7</td>\n",
       "      <td>Platimum</td>\n",
       "      <td>1288156.26</td>\n",
       "    </tr>\n",
       "    <tr>\n",
       "      <th>20</th>\n",
       "      <td>7</td>\n",
       "      <td>Silver</td>\n",
       "      <td>530153.72</td>\n",
       "    </tr>\n",
       "    <tr>\n",
       "      <th>21</th>\n",
       "      <td>8</td>\n",
       "      <td>Gold</td>\n",
       "      <td>4954030.42</td>\n",
       "    </tr>\n",
       "    <tr>\n",
       "      <th>22</th>\n",
       "      <td>8</td>\n",
       "      <td>Platimum</td>\n",
       "      <td>1714762.80</td>\n",
       "    </tr>\n",
       "    <tr>\n",
       "      <th>23</th>\n",
       "      <td>8</td>\n",
       "      <td>Silver</td>\n",
       "      <td>293109.82</td>\n",
       "    </tr>\n",
       "    <tr>\n",
       "      <th>24</th>\n",
       "      <td>9</td>\n",
       "      <td>Gold</td>\n",
       "      <td>3816887.62</td>\n",
       "    </tr>\n",
       "    <tr>\n",
       "      <th>25</th>\n",
       "      <td>9</td>\n",
       "      <td>Platimum</td>\n",
       "      <td>1667840.84</td>\n",
       "    </tr>\n",
       "    <tr>\n",
       "      <th>26</th>\n",
       "      <td>9</td>\n",
       "      <td>Silver</td>\n",
       "      <td>442803.13</td>\n",
       "    </tr>\n",
       "    <tr>\n",
       "      <th>27</th>\n",
       "      <td>10</td>\n",
       "      <td>Gold</td>\n",
       "      <td>3018223.38</td>\n",
       "    </tr>\n",
       "    <tr>\n",
       "      <th>28</th>\n",
       "      <td>10</td>\n",
       "      <td>Platimum</td>\n",
       "      <td>550275.04</td>\n",
       "    </tr>\n",
       "    <tr>\n",
       "      <th>29</th>\n",
       "      <td>10</td>\n",
       "      <td>Silver</td>\n",
       "      <td>100001.50</td>\n",
       "    </tr>\n",
       "    <tr>\n",
       "      <th>30</th>\n",
       "      <td>11</td>\n",
       "      <td>Gold</td>\n",
       "      <td>9203267.46</td>\n",
       "    </tr>\n",
       "    <tr>\n",
       "      <th>31</th>\n",
       "      <td>11</td>\n",
       "      <td>Platimum</td>\n",
       "      <td>2741618.42</td>\n",
       "    </tr>\n",
       "    <tr>\n",
       "      <th>32</th>\n",
       "      <td>11</td>\n",
       "      <td>Silver</td>\n",
       "      <td>691102.63</td>\n",
       "    </tr>\n",
       "    <tr>\n",
       "      <th>33</th>\n",
       "      <td>12</td>\n",
       "      <td>Gold</td>\n",
       "      <td>2332940.96</td>\n",
       "    </tr>\n",
       "    <tr>\n",
       "      <th>34</th>\n",
       "      <td>12</td>\n",
       "      <td>Platimum</td>\n",
       "      <td>750156.19</td>\n",
       "    </tr>\n",
       "    <tr>\n",
       "      <th>35</th>\n",
       "      <td>12</td>\n",
       "      <td>Silver</td>\n",
       "      <td>200537.90</td>\n",
       "    </tr>\n",
       "  </tbody>\n",
       "</table>\n",
       "</div>"
      ],
      "text/plain": [
       "   spend_date   Product    amt_spend\n",
       "0           1      Gold  32413831.83\n",
       "1           1  Platimum  14951578.51\n",
       "2           1    Silver   4206383.62\n",
       "3           2      Gold  24779179.55\n",
       "4           2  Platimum   9134054.58\n",
       "5           2    Silver   2087018.37\n",
       "6           3      Gold  19256972.48\n",
       "7           3  Platimum   7288837.68\n",
       "8           3    Silver   3909405.83\n",
       "9           4      Gold  13170572.59\n",
       "10          4  Platimum   5182493.86\n",
       "11          4    Silver   1902322.65\n",
       "12          5      Gold  21548169.76\n",
       "13          5  Platimum   8151926.49\n",
       "14          5    Silver   2140940.01\n",
       "15          6      Gold   6538862.64\n",
       "16          6  Platimum   2965712.71\n",
       "17          6    Silver    689537.61\n",
       "18          7      Gold   5167416.37\n",
       "19          7  Platimum   1288156.26\n",
       "20          7    Silver    530153.72\n",
       "21          8      Gold   4954030.42\n",
       "22          8  Platimum   1714762.80\n",
       "23          8    Silver    293109.82\n",
       "24          9      Gold   3816887.62\n",
       "25          9  Platimum   1667840.84\n",
       "26          9    Silver    442803.13\n",
       "27         10      Gold   3018223.38\n",
       "28         10  Platimum    550275.04\n",
       "29         10    Silver    100001.50\n",
       "30         11      Gold   9203267.46\n",
       "31         11  Platimum   2741618.42\n",
       "32         11    Silver    691102.63\n",
       "33         12      Gold   2332940.96\n",
       "34         12  Platimum    750156.19\n",
       "35         12    Silver    200537.90"
      ]
     },
     "execution_count": 127,
     "metadata": {},
     "output_type": "execute_result"
    }
   ],
   "source": [
    "q4_c_data = pd.DataFrame(spend_data.groupby([pd.DatetimeIndex(spend_data['spend_date']).month, 'Product']).amt_spend.sum())\n",
    "q4_c_data.reset_index(inplace = True)\n",
    "q4_c_data.spend_date = q4_c_data.spend_date.astype('object') \n",
    "q4_c_data"
   ]
  },
  {
   "cell_type": "code",
   "execution_count": 144,
   "metadata": {},
   "outputs": [],
   "source": [
    "q4_c_plot = (ggplot(q4_c_data) + \n",
    "             aes(x = 'spend_date', y = 'amt_spend') +\n",
    "             geom_bar(stat = 'identity') + \n",
    "             facet_grid('Product~'))"
   ]
  },
  {
   "cell_type": "code",
   "execution_count": 145,
   "metadata": {},
   "outputs": [
    {
     "data": {
      "image/png": "[encoded data removed]",
      "text/plain": [
       "<Figure size 640x480 with 3 Axes>"
      ]
     },
     "metadata": {},
     "output_type": "display_data"
    },
    {
     "data": {
      "text/plain": [
       "<ggplot: (145019599011)>"
      ]
     },
     "execution_count": 145,
     "metadata": {},
     "output_type": "execute_result"
    }
   ],
   "source": [
    "q4_c_plot"
   ]
  },
  {
   "cell_type": "markdown",
   "metadata": {},
   "source": [
    "## Q5. Write user defined PYTHON function to perform the following analysis:\n",
    "\n",
    "You need to find top 10 customers for each city in terms of their repayment amount by\n",
    "different products and by different time periods i.e. year or month. The user should be able\n",
    "to specify the product (Gold/Silver/Platinum) and time period (yearly or monthly) and the\n",
    "function should automatically take these inputs while identifying the top 10 customers."
   ]
  },
  {
   "cell_type": "code",
   "execution_count": 163,
   "metadata": {},
   "outputs": [],
   "source": [
    "def top_customers(product, period) :\n",
    "    \n",
    "    data = repay_data[repay_data['Product'] == product]\n",
    "    \n",
    "    if period == 'year' :\n",
    "        data = pd.DataFrame(data.groupby(['Customer', 'City', pd.DatetimeIndex(data['repay_date']).year]).amt_repay.sum())\n",
    "        data.reset_index(inplace = True)\n",
    "        \n",
    "    elif period == 'month' :\n",
    "        data = pd.DataFrame(data.groupby(['Customer', 'City', pd.DatetimeIndex(data['repay_date']).month]).amt_repay.sum())\n",
    "        data.reset_index(inplace = True)\n",
    "        \n",
    "    data_bangalore  = data[data['City'] == 'BANGALORE'].sort_values(by = 'amt_repay', ascending = False).head(10)\n",
    "    data_bombay     = data[data['City'] == 'BOMBAY'].sort_values(by = 'amt_repay', ascending = False).head(10)\n",
    "    data_calcutta   = data[data['City'] == 'CALCUTTA'].sort_values(by = 'amt_repay', ascending = False).head(10)\n",
    "    data_chennai    = data[data['City'] == 'CHENNAI'].sort_values(by = 'amt_repay', ascending = False).head(10)\n",
    "    data_cochin     = data[data['City'] == 'COCHIN'].sort_values(by = 'amt_repay', ascending = False).head(10)\n",
    "    data_delhi      = data[data['City'] == 'DELHI'].sort_values(by = 'amt_repay', ascending = False).head(10)\n",
    "    data_patna      = data[data['City'] == 'PATNA'].sort_values(by = 'amt_repay', ascending = False).head(10)\n",
    "    data_trivandrum = data[data['City'] == 'TRIVANDRUM'].sort_values(by = 'amt_repay', ascending = False).head(10)\n",
    "    \n",
    "    data = pd.concat([data_bangalore, data_bombay, data_calcutta, data_chennai, data_cochin, \n",
    "                      data_delhi, data_patna, data_trivandrum], axis = 0)\n",
    "    \n",
    "    data.sort_values(by = ['City', 'repay_date', 'amt_repay'], ascending = [True, True, False],inplace = True)\n",
    "        \n",
    "    return data\n",
    "    "
   ]
  },
  {
   "cell_type": "markdown",
   "metadata": {},
   "source": [
    "#### SPECIFY PRODUCT AS 'Gold', 'Silver', 'Platinum' AND PERIOD AS 'year' OR 'month'"
   ]
  },
  {
   "cell_type": "code",
   "execution_count": 170,
   "metadata": {},
   "outputs": [
    {
     "data": {
      "text/html": [
       "<div>\n",
       "<style scoped>\n",
       "    .dataframe tbody tr th:only-of-type {\n",
       "        vertical-align: middle;\n",
       "    }\n",
       "\n",
       "    .dataframe tbody tr th {\n",
       "        vertical-align: top;\n",
       "    }\n",
       "\n",
       "    .dataframe thead th {\n",
       "        text-align: right;\n",
       "    }\n",
       "</style>\n",
       "<table border=\"1\" class=\"dataframe\">\n",
       "  <thead>\n",
       "    <tr style=\"text-align: right;\">\n",
       "      <th></th>\n",
       "      <th>Customer</th>\n",
       "      <th>City</th>\n",
       "      <th>repay_date</th>\n",
       "      <th>amt_repay</th>\n",
       "    </tr>\n",
       "  </thead>\n",
       "  <tbody>\n",
       "    <tr>\n",
       "      <th>15</th>\n",
       "      <td>A14</td>\n",
       "      <td>BANGALORE</td>\n",
       "      <td>2004</td>\n",
       "      <td>2770261.30</td>\n",
       "    </tr>\n",
       "    <tr>\n",
       "      <th>0</th>\n",
       "      <td>A1</td>\n",
       "      <td>BANGALORE</td>\n",
       "      <td>2004</td>\n",
       "      <td>2359797.84</td>\n",
       "    </tr>\n",
       "    <tr>\n",
       "      <th>52</th>\n",
       "      <td>A43</td>\n",
       "      <td>BANGALORE</td>\n",
       "      <td>2005</td>\n",
       "      <td>4006956.60</td>\n",
       "    </tr>\n",
       "    <tr>\n",
       "      <th>13</th>\n",
       "      <td>A13</td>\n",
       "      <td>BANGALORE</td>\n",
       "      <td>2005</td>\n",
       "      <td>3757673.00</td>\n",
       "    </tr>\n",
       "    <tr>\n",
       "      <th>40</th>\n",
       "      <td>A30</td>\n",
       "      <td>BANGALORE</td>\n",
       "      <td>2005</td>\n",
       "      <td>2667746.38</td>\n",
       "    </tr>\n",
       "    <tr>\n",
       "      <th>16</th>\n",
       "      <td>A14</td>\n",
       "      <td>BANGALORE</td>\n",
       "      <td>2005</td>\n",
       "      <td>2491981.61</td>\n",
       "    </tr>\n",
       "    <tr>\n",
       "      <th>14</th>\n",
       "      <td>A13</td>\n",
       "      <td>BANGALORE</td>\n",
       "      <td>2006</td>\n",
       "      <td>3477314.89</td>\n",
       "    </tr>\n",
       "    <tr>\n",
       "      <th>17</th>\n",
       "      <td>A14</td>\n",
       "      <td>BANGALORE</td>\n",
       "      <td>2006</td>\n",
       "      <td>2681025.72</td>\n",
       "    </tr>\n",
       "    <tr>\n",
       "      <th>53</th>\n",
       "      <td>A43</td>\n",
       "      <td>BANGALORE</td>\n",
       "      <td>2006</td>\n",
       "      <td>2576417.39</td>\n",
       "    </tr>\n",
       "    <tr>\n",
       "      <th>41</th>\n",
       "      <td>A30</td>\n",
       "      <td>BANGALORE</td>\n",
       "      <td>2006</td>\n",
       "      <td>2486958.41</td>\n",
       "    </tr>\n",
       "    <tr>\n",
       "      <th>48</th>\n",
       "      <td>A42</td>\n",
       "      <td>BOMBAY</td>\n",
       "      <td>2004</td>\n",
       "      <td>3045914.71</td>\n",
       "    </tr>\n",
       "    <tr>\n",
       "      <th>9</th>\n",
       "      <td>A12</td>\n",
       "      <td>BOMBAY</td>\n",
       "      <td>2004</td>\n",
       "      <td>2339080.90</td>\n",
       "    </tr>\n",
       "    <tr>\n",
       "      <th>66</th>\n",
       "      <td>A62</td>\n",
       "      <td>BOMBAY</td>\n",
       "      <td>2004</td>\n",
       "      <td>1744114.25</td>\n",
       "    </tr>\n",
       "    <tr>\n",
       "      <th>49</th>\n",
       "      <td>A42</td>\n",
       "      <td>BOMBAY</td>\n",
       "      <td>2005</td>\n",
       "      <td>3125758.43</td>\n",
       "    </tr>\n",
       "    <tr>\n",
       "      <th>10</th>\n",
       "      <td>A12</td>\n",
       "      <td>BOMBAY</td>\n",
       "      <td>2005</td>\n",
       "      <td>2877588.30</td>\n",
       "    </tr>\n",
       "    <tr>\n",
       "      <th>67</th>\n",
       "      <td>A62</td>\n",
       "      <td>BOMBAY</td>\n",
       "      <td>2005</td>\n",
       "      <td>1541617.21</td>\n",
       "    </tr>\n",
       "    <tr>\n",
       "      <th>26</th>\n",
       "      <td>A17</td>\n",
       "      <td>BOMBAY</td>\n",
       "      <td>2006</td>\n",
       "      <td>3127783.14</td>\n",
       "    </tr>\n",
       "    <tr>\n",
       "      <th>11</th>\n",
       "      <td>A12</td>\n",
       "      <td>BOMBAY</td>\n",
       "      <td>2006</td>\n",
       "      <td>3118090.96</td>\n",
       "    </tr>\n",
       "    <tr>\n",
       "      <th>68</th>\n",
       "      <td>A62</td>\n",
       "      <td>BOMBAY</td>\n",
       "      <td>2006</td>\n",
       "      <td>1684085.69</td>\n",
       "    </tr>\n",
       "    <tr>\n",
       "      <th>50</th>\n",
       "      <td>A42</td>\n",
       "      <td>BOMBAY</td>\n",
       "      <td>2006</td>\n",
       "      <td>1443787.72</td>\n",
       "    </tr>\n",
       "    <tr>\n",
       "      <th>60</th>\n",
       "      <td>A60</td>\n",
       "      <td>CALCUTTA</td>\n",
       "      <td>2004</td>\n",
       "      <td>2890721.81</td>\n",
       "    </tr>\n",
       "    <tr>\n",
       "      <th>61</th>\n",
       "      <td>A60</td>\n",
       "      <td>CALCUTTA</td>\n",
       "      <td>2005</td>\n",
       "      <td>3742856.10</td>\n",
       "    </tr>\n",
       "    <tr>\n",
       "      <th>19</th>\n",
       "      <td>A15</td>\n",
       "      <td>CALCUTTA</td>\n",
       "      <td>2005</td>\n",
       "      <td>1720768.79</td>\n",
       "    </tr>\n",
       "    <tr>\n",
       "      <th>37</th>\n",
       "      <td>A29</td>\n",
       "      <td>CALCUTTA</td>\n",
       "      <td>2005</td>\n",
       "      <td>1706779.22</td>\n",
       "    </tr>\n",
       "    <tr>\n",
       "      <th>43</th>\n",
       "      <td>A31</td>\n",
       "      <td>CALCUTTA</td>\n",
       "      <td>2005</td>\n",
       "      <td>1448641.71</td>\n",
       "    </tr>\n",
       "    <tr>\n",
       "      <th>38</th>\n",
       "      <td>A29</td>\n",
       "      <td>CALCUTTA</td>\n",
       "      <td>2006</td>\n",
       "      <td>3434298.00</td>\n",
       "    </tr>\n",
       "    <tr>\n",
       "      <th>62</th>\n",
       "      <td>A60</td>\n",
       "      <td>CALCUTTA</td>\n",
       "      <td>2006</td>\n",
       "      <td>3242712.83</td>\n",
       "    </tr>\n",
       "    <tr>\n",
       "      <th>20</th>\n",
       "      <td>A15</td>\n",
       "      <td>CALCUTTA</td>\n",
       "      <td>2006</td>\n",
       "      <td>2783141.43</td>\n",
       "    </tr>\n",
       "    <tr>\n",
       "      <th>5</th>\n",
       "      <td>A10</td>\n",
       "      <td>CALCUTTA</td>\n",
       "      <td>2006</td>\n",
       "      <td>1556613.06</td>\n",
       "    </tr>\n",
       "    <tr>\n",
       "      <th>44</th>\n",
       "      <td>A31</td>\n",
       "      <td>CALCUTTA</td>\n",
       "      <td>2006</td>\n",
       "      <td>1527798.41</td>\n",
       "    </tr>\n",
       "    <tr>\n",
       "      <th>30</th>\n",
       "      <td>A27</td>\n",
       "      <td>CHENNAI</td>\n",
       "      <td>2004</td>\n",
       "      <td>1842823.04</td>\n",
       "    </tr>\n",
       "    <tr>\n",
       "      <th>76</th>\n",
       "      <td>A67</td>\n",
       "      <td>CHENNAI</td>\n",
       "      <td>2004</td>\n",
       "      <td>67845.60</td>\n",
       "    </tr>\n",
       "    <tr>\n",
       "      <th>31</th>\n",
       "      <td>A27</td>\n",
       "      <td>CHENNAI</td>\n",
       "      <td>2005</td>\n",
       "      <td>2782591.71</td>\n",
       "    </tr>\n",
       "    <tr>\n",
       "      <th>77</th>\n",
       "      <td>A67</td>\n",
       "      <td>CHENNAI</td>\n",
       "      <td>2005</td>\n",
       "      <td>55638.77</td>\n",
       "    </tr>\n",
       "    <tr>\n",
       "      <th>32</th>\n",
       "      <td>A27</td>\n",
       "      <td>CHENNAI</td>\n",
       "      <td>2006</td>\n",
       "      <td>2387485.81</td>\n",
       "    </tr>\n",
       "    <tr>\n",
       "      <th>57</th>\n",
       "      <td>A45</td>\n",
       "      <td>COCHIN</td>\n",
       "      <td>2004</td>\n",
       "      <td>2557947.39</td>\n",
       "    </tr>\n",
       "    <tr>\n",
       "      <th>63</th>\n",
       "      <td>A61</td>\n",
       "      <td>COCHIN</td>\n",
       "      <td>2004</td>\n",
       "      <td>2518154.95</td>\n",
       "    </tr>\n",
       "    <tr>\n",
       "      <th>64</th>\n",
       "      <td>A61</td>\n",
       "      <td>COCHIN</td>\n",
       "      <td>2005</td>\n",
       "      <td>4276860.55</td>\n",
       "    </tr>\n",
       "    <tr>\n",
       "      <th>58</th>\n",
       "      <td>A45</td>\n",
       "      <td>COCHIN</td>\n",
       "      <td>2005</td>\n",
       "      <td>4042447.57</td>\n",
       "    </tr>\n",
       "    <tr>\n",
       "      <th>7</th>\n",
       "      <td>A11</td>\n",
       "      <td>COCHIN</td>\n",
       "      <td>2005</td>\n",
       "      <td>2045470.88</td>\n",
       "    </tr>\n",
       "    <tr>\n",
       "      <th>65</th>\n",
       "      <td>A61</td>\n",
       "      <td>COCHIN</td>\n",
       "      <td>2006</td>\n",
       "      <td>3744127.41</td>\n",
       "    </tr>\n",
       "    <tr>\n",
       "      <th>8</th>\n",
       "      <td>A11</td>\n",
       "      <td>COCHIN</td>\n",
       "      <td>2006</td>\n",
       "      <td>2306906.76</td>\n",
       "    </tr>\n",
       "    <tr>\n",
       "      <th>23</th>\n",
       "      <td>A16</td>\n",
       "      <td>COCHIN</td>\n",
       "      <td>2006</td>\n",
       "      <td>1911369.63</td>\n",
       "    </tr>\n",
       "    <tr>\n",
       "      <th>59</th>\n",
       "      <td>A45</td>\n",
       "      <td>COCHIN</td>\n",
       "      <td>2006</td>\n",
       "      <td>1847939.91</td>\n",
       "    </tr>\n",
       "    <tr>\n",
       "      <th>47</th>\n",
       "      <td>A32</td>\n",
       "      <td>COCHIN</td>\n",
       "      <td>2006</td>\n",
       "      <td>1517308.65</td>\n",
       "    </tr>\n",
       "    <tr>\n",
       "      <th>54</th>\n",
       "      <td>A44</td>\n",
       "      <td>DELHI</td>\n",
       "      <td>2004</td>\n",
       "      <td>2149383.50</td>\n",
       "    </tr>\n",
       "    <tr>\n",
       "      <th>85</th>\n",
       "      <td>A93</td>\n",
       "      <td>DELHI</td>\n",
       "      <td>2004</td>\n",
       "      <td>342326.14</td>\n",
       "    </tr>\n",
       "    <tr>\n",
       "      <th>55</th>\n",
       "      <td>A44</td>\n",
       "      <td>DELHI</td>\n",
       "      <td>2005</td>\n",
       "      <td>4165317.77</td>\n",
       "    </tr>\n",
       "    <tr>\n",
       "      <th>56</th>\n",
       "      <td>A44</td>\n",
       "      <td>DELHI</td>\n",
       "      <td>2006</td>\n",
       "      <td>1430028.85</td>\n",
       "    </tr>\n",
       "    <tr>\n",
       "      <th>79</th>\n",
       "      <td>A82</td>\n",
       "      <td>DELHI</td>\n",
       "      <td>2006</td>\n",
       "      <td>342200.74</td>\n",
       "    </tr>\n",
       "    <tr>\n",
       "      <th>71</th>\n",
       "      <td>A64</td>\n",
       "      <td>DELHI</td>\n",
       "      <td>2006</td>\n",
       "      <td>323229.09</td>\n",
       "    </tr>\n",
       "    <tr>\n",
       "      <th>27</th>\n",
       "      <td>A26</td>\n",
       "      <td>PATNA</td>\n",
       "      <td>2004</td>\n",
       "      <td>1490427.84</td>\n",
       "    </tr>\n",
       "    <tr>\n",
       "      <th>74</th>\n",
       "      <td>A66</td>\n",
       "      <td>PATNA</td>\n",
       "      <td>2004</td>\n",
       "      <td>477039.78</td>\n",
       "    </tr>\n",
       "    <tr>\n",
       "      <th>87</th>\n",
       "      <td>A95</td>\n",
       "      <td>PATNA</td>\n",
       "      <td>2004</td>\n",
       "      <td>369405.96</td>\n",
       "    </tr>\n",
       "    <tr>\n",
       "      <th>28</th>\n",
       "      <td>A26</td>\n",
       "      <td>PATNA</td>\n",
       "      <td>2005</td>\n",
       "      <td>2433837.95</td>\n",
       "    </tr>\n",
       "    <tr>\n",
       "      <th>29</th>\n",
       "      <td>A26</td>\n",
       "      <td>PATNA</td>\n",
       "      <td>2006</td>\n",
       "      <td>3330421.30</td>\n",
       "    </tr>\n",
       "    <tr>\n",
       "      <th>75</th>\n",
       "      <td>A66</td>\n",
       "      <td>PATNA</td>\n",
       "      <td>2006</td>\n",
       "      <td>113094.58</td>\n",
       "    </tr>\n",
       "    <tr>\n",
       "      <th>33</th>\n",
       "      <td>A28</td>\n",
       "      <td>TRIVANDRUM</td>\n",
       "      <td>2004</td>\n",
       "      <td>965108.49</td>\n",
       "    </tr>\n",
       "    <tr>\n",
       "      <th>34</th>\n",
       "      <td>A28</td>\n",
       "      <td>TRIVANDRUM</td>\n",
       "      <td>2005</td>\n",
       "      <td>2827009.82</td>\n",
       "    </tr>\n",
       "    <tr>\n",
       "      <th>35</th>\n",
       "      <td>A28</td>\n",
       "      <td>TRIVANDRUM</td>\n",
       "      <td>2006</td>\n",
       "      <td>3376614.65</td>\n",
       "    </tr>\n",
       "  </tbody>\n",
       "</table>\n",
       "</div>"
      ],
      "text/plain": [
       "   Customer        City  repay_date   amt_repay\n",
       "15      A14   BANGALORE        2004  2770261.30\n",
       "0        A1   BANGALORE        2004  2359797.84\n",
       "52      A43   BANGALORE        2005  4006956.60\n",
       "13      A13   BANGALORE        2005  3757673.00\n",
       "40      A30   BANGALORE        2005  2667746.38\n",
       "16      A14   BANGALORE        2005  2491981.61\n",
       "14      A13   BANGALORE        2006  3477314.89\n",
       "17      A14   BANGALORE        2006  2681025.72\n",
       "53      A43   BANGALORE        2006  2576417.39\n",
       "41      A30   BANGALORE        2006  2486958.41\n",
       "48      A42      BOMBAY        2004  3045914.71\n",
       "9       A12      BOMBAY        2004  2339080.90\n",
       "66      A62      BOMBAY        2004  1744114.25\n",
       "49      A42      BOMBAY        2005  3125758.43\n",
       "10      A12      BOMBAY        2005  2877588.30\n",
       "67      A62      BOMBAY        2005  1541617.21\n",
       "26      A17      BOMBAY        2006  3127783.14\n",
       "11      A12      BOMBAY        2006  3118090.96\n",
       "68      A62      BOMBAY        2006  1684085.69\n",
       "50      A42      BOMBAY        2006  1443787.72\n",
       "60      A60    CALCUTTA        2004  2890721.81\n",
       "61      A60    CALCUTTA        2005  3742856.10\n",
       "19      A15    CALCUTTA        2005  1720768.79\n",
       "37      A29    CALCUTTA        2005  1706779.22\n",
       "43      A31    CALCUTTA        2005  1448641.71\n",
       "38      A29    CALCUTTA        2006  3434298.00\n",
       "62      A60    CALCUTTA        2006  3242712.83\n",
       "20      A15    CALCUTTA        2006  2783141.43\n",
       "5       A10    CALCUTTA        2006  1556613.06\n",
       "44      A31    CALCUTTA        2006  1527798.41\n",
       "30      A27     CHENNAI        2004  1842823.04\n",
       "76      A67     CHENNAI        2004    67845.60\n",
       "31      A27     CHENNAI        2005  2782591.71\n",
       "77      A67     CHENNAI        2005    55638.77\n",
       "32      A27     CHENNAI        2006  2387485.81\n",
       "57      A45      COCHIN        2004  2557947.39\n",
       "63      A61      COCHIN        2004  2518154.95\n",
       "64      A61      COCHIN        2005  4276860.55\n",
       "58      A45      COCHIN        2005  4042447.57\n",
       "7       A11      COCHIN        2005  2045470.88\n",
       "65      A61      COCHIN        2006  3744127.41\n",
       "8       A11      COCHIN        2006  2306906.76\n",
       "23      A16      COCHIN        2006  1911369.63\n",
       "59      A45      COCHIN        2006  1847939.91\n",
       "47      A32      COCHIN        2006  1517308.65\n",
       "54      A44       DELHI        2004  2149383.50\n",
       "85      A93       DELHI        2004   342326.14\n",
       "55      A44       DELHI        2005  4165317.77\n",
       "56      A44       DELHI        2006  1430028.85\n",
       "79      A82       DELHI        2006   342200.74\n",
       "71      A64       DELHI        2006   323229.09\n",
       "27      A26       PATNA        2004  1490427.84\n",
       "74      A66       PATNA        2004   477039.78\n",
       "87      A95       PATNA        2004   369405.96\n",
       "28      A26       PATNA        2005  2433837.95\n",
       "29      A26       PATNA        2006  3330421.30\n",
       "75      A66       PATNA        2006   113094.58\n",
       "33      A28  TRIVANDRUM        2004   965108.49\n",
       "34      A28  TRIVANDRUM        2005  2827009.82\n",
       "35      A28  TRIVANDRUM        2006  3376614.65"
      ]
     },
     "execution_count": 170,
     "metadata": {},
     "output_type": "execute_result"
    }
   ],
   "source": [
    "top_customers('Gold', 'year')"
   ]
  },
  {
   "cell_type": "code",
   "execution_count": null,
   "metadata": {},
   "outputs": [],
   "source": []
  },
  {
   "cell_type": "code",
   "execution_count": 153,
   "metadata": {},
   "outputs": [],
   "source": []
  },
  {
   "cell_type": "code",
   "execution_count": null,
   "metadata": {},
   "outputs": [],
   "source": []
  }
 ],
 "metadata": {
  "kernelspec": {
   "display_name": "Python 3",
   "language": "python",
   "name": "python3"
  },
  "language_info": {
   "codemirror_mode": {
    "name": "ipython",
    "version": 3
   },
   "file_extension": ".py",
   "mimetype": "text/x-python",
   "name": "python",
   "nbconvert_exporter": "python",
   "pygments_lexer": "ipython3",
   "version": "3.8.5"
  }
 },
 "nbformat": 4,
 "nbformat_minor": 4
}
